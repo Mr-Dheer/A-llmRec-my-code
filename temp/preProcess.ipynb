{
 "cells": [
  {
   "cell_type": "code",
   "id": "initial_id",
   "metadata": {
    "collapsed": true,
    "ExecuteTime": {
     "end_time": "2025-02-25T18:56:06.328564Z",
     "start_time": "2025-02-25T18:56:06.326923Z"
    }
   },
   "source": [
    "import pandas as pd\n",
    "import numpy as np\n"
   ],
   "outputs": [],
   "execution_count": 103
  },
  {
   "metadata": {
    "ExecuteTime": {
     "end_time": "2025-02-25T18:56:08.331116Z",
     "start_time": "2025-02-25T18:56:06.332536Z"
    }
   },
   "cell_type": "code",
   "source": [
    "# Line-delimited JSON to DataFrame\n",
    "# file_path_movie_subset = \"/home/kavach/Dev/Publication/A-LLM-Rec/A-LLMRec_copy_original/data/amazon/meta_Movies_and_TV.json\" #\n",
    "file_path_luxury_beauty = 'data/meta_Luxury_Beauty.json'\n",
    "# file_path_video_games = 'data/meta_Video_Games.json'\n",
    "# file_path_magazine = 'data/meta_Magazine_Subscriptions.json'\n",
    "\n",
    "\n",
    "# original_meta_magazine = pd.read_json(file_path_magazine, lines=True)\n",
    "original_meta_luxury = pd.read_json(file_path_luxury_beauty, lines=True)\n",
    "# original_meta_movies = pd.read_json(file_path_movie_subset, lines=True)\n",
    "# original_meta_games = pd.read_json(file_path_video_games, lines=True)\n",
    "\n",
    "# df_metaMag = original_meta_magazine.copy()\n",
    "df_metaLux = original_meta_luxury.copy()\n",
    "# df_metaMovies = original_meta_movies.copy()\n",
    "# df_metaGames = original_meta_games.copy()"
   ],
   "id": "75712d0dc08c7d46",
   "outputs": [],
   "execution_count": 104
  },
  {
   "metadata": {
    "ExecuteTime": {
     "end_time": "2025-02-25T19:33:11.082960Z",
     "start_time": "2025-02-25T19:33:11.070226Z"
    }
   },
   "cell_type": "code",
   "source": "df_metaLux.info()",
   "id": "84a56385449e89af",
   "outputs": [
    {
     "name": "stdout",
     "output_type": "stream",
     "text": [
      "<class 'pandas.core.frame.DataFrame'>\n",
      "RangeIndex: 12299 entries, 0 to 12298\n",
      "Data columns (total 19 columns):\n",
      " #   Column           Non-Null Count  Dtype         \n",
      "---  ------           --------------  -----         \n",
      " 0   category         12299 non-null  object        \n",
      " 1   tech1            12299 non-null  object        \n",
      " 2   description      12299 non-null  object        \n",
      " 3   fit              12299 non-null  object        \n",
      " 4   title            12299 non-null  object        \n",
      " 5   also_buy         12299 non-null  object        \n",
      " 6   tech2            12299 non-null  object        \n",
      " 7   brand            12299 non-null  object        \n",
      " 8   feature          12299 non-null  object        \n",
      " 9   rank             12299 non-null  object        \n",
      " 10  also_view        12299 non-null  object        \n",
      " 11  details          12299 non-null  object        \n",
      " 12  main_cat         12299 non-null  object        \n",
      " 13  similar_item     12299 non-null  object        \n",
      " 14  date             0 non-null      datetime64[ns]\n",
      " 15  price            12299 non-null  object        \n",
      " 16  asin             12299 non-null  object        \n",
      " 17  imageURL         12299 non-null  object        \n",
      " 18  imageURLHighRes  12299 non-null  object        \n",
      "dtypes: datetime64[ns](1), object(18)\n",
      "memory usage: 1.8+ MB\n"
     ]
    }
   ],
   "execution_count": 121
  },
  {
   "metadata": {},
   "cell_type": "code",
   "outputs": [],
   "execution_count": null,
   "source": [
    "total_empty = (df_metaMag == \"\").sum()\n",
    "print(\"Total empty strings:\", total_empty)"
   ],
   "id": "4aa20ee8ec1d233d"
  },
  {
   "metadata": {
    "ExecuteTime": {
     "end_time": "2025-02-25T18:56:08.826950Z",
     "start_time": "2025-02-25T18:56:08.815417Z"
    }
   },
   "cell_type": "code",
   "source": [
    "# PreProcessing\n",
    "\n",
    "# Dropping these because either empty or not useful\n",
    "df_metaMag.drop(['imageURL', 'imageURLHighRes', 'date', 'tech1', 'fit', 'tech2', 'feature', 'similar_item', 'price'], axis=True, inplace=True)\n",
    "\n",
    "# Converting all list into string\n",
    "df_metaMag= df_metaMag.map(lambda x: \", \".join(x) if isinstance(x, list) else str(x))\n",
    "\n",
    "# Removes all the null values\n",
    "df_metaMag.replace(r'^\\s*$', np.nan, regex=True, inplace=True)\n"
   ],
   "id": "92222b4bc6df3fc9",
   "outputs": [],
   "execution_count": 107
  },
  {
   "metadata": {
    "ExecuteTime": {
     "end_time": "2025-02-25T19:25:18.398448Z",
     "start_time": "2025-02-25T19:25:18.391647Z"
    }
   },
   "cell_type": "code",
   "source": "df_metaMag.info()",
   "id": "31eb84fe723cf1bd",
   "outputs": [
    {
     "name": "stdout",
     "output_type": "stream",
     "text": [
      "<class 'pandas.core.frame.DataFrame'>\n",
      "RangeIndex: 3385 entries, 0 to 3384\n",
      "Data columns (total 10 columns):\n",
      " #   Column       Non-Null Count  Dtype \n",
      "---  ------       --------------  ----- \n",
      " 0   category     2883 non-null   object\n",
      " 1   description  2910 non-null   object\n",
      " 2   title        3385 non-null   object\n",
      " 3   also_buy     1613 non-null   object\n",
      " 4   brand        3162 non-null   object\n",
      " 5   rank         1994 non-null   object\n",
      " 6   also_view    2070 non-null   object\n",
      " 7   details      3385 non-null   object\n",
      " 8   main_cat     3385 non-null   object\n",
      " 9   asin         3385 non-null   object\n",
      "dtypes: object(10)\n",
      "memory usage: 264.6+ KB\n"
     ]
    }
   ],
   "execution_count": 115
  },
  {
   "metadata": {
    "ExecuteTime": {
     "end_time": "2025-02-25T19:25:59.859490Z",
     "start_time": "2025-02-25T19:25:59.854878Z"
    }
   },
   "cell_type": "code",
   "source": [
    "\n",
    "df_metaMag.head()"
   ],
   "id": "755dae22e7a9d7eb",
   "outputs": [
    {
     "data": {
      "text/plain": [
       "                                            category  \\\n",
       "0  Magazine Subscriptions, Professional & Educati...   \n",
       "1  Magazine Subscriptions, Arts, Music &amp; Phot...   \n",
       "2  Magazine Subscriptions, Fashion &amp; Style, W...   \n",
       "3  Magazine Subscriptions, Sports, Recreation & O...   \n",
       "4  Magazine Subscriptions, Professional & Educati...   \n",
       "\n",
       "                                         description  \\\n",
       "0  REASON is edited for people interested in econ...   \n",
       "1  Written by and for musicians. Covers a variety...   \n",
       "2  Allure is the beauty expert. Every issue is fu...   \n",
       "3  FLIGHT JOURNAL includes articles on aviation h...   \n",
       "4  RIDER is published for the road and street rid...   \n",
       "\n",
       "                                           title  \\\n",
       "0  <span class=\"a-size-medium a-color-secondary\"   \n",
       "1  <span class=\"a-size-medium a-color-secondary\"   \n",
       "2  <span class=\"a-size-medium a-color-secondary\"   \n",
       "3  <span class=\"a-size-medium a-color-secondary\"   \n",
       "4  <span class=\"a-size-medium a-color-secondary\"   \n",
       "\n",
       "                                            also_buy  \\\n",
       "0  B002PXVYLE, B01MCU84LB, B000UHI2LW, B01AKS14AQ...   \n",
       "1  B002PXVYGE, B0054LRNC8, B000BVEELE, B00006KC3U...   \n",
       "2  B001THPA4O, B002PXVZWW, B001THPA1M, B001THPA12...   \n",
       "3  B07JVF7QW4, B00ATQ6FPY, B002G551F6, B00008CGWO...   \n",
       "4  B002PXVYD2, B01BM7TOU6, B000060MKJ, B000BNNIGO...   \n",
       "\n",
       "                               brand                             rank  \\\n",
       "0                    Reason Magazine                              NaN   \n",
       "1           String Letter Publishers  742 in Magazine Subscriptions (   \n",
       "2            Conde Nast Publications                              NaN   \n",
       "3                  AirAge Publishing                              NaN   \n",
       "4  EPG Media & Specialty Information                              NaN   \n",
       "\n",
       "                                           also_view  \\\n",
       "0  B002PXVYLE, B000UHI2LW, B01MCU84LB, B002PXW18E...   \n",
       "1  B002PXVYGE, B0054LRNC8, B00006L16A, 1719064873...   \n",
       "2  B002PXVZWW, B001THPA4O, B001THPA1M, B01N819UDU...   \n",
       "3  B002G551F6, B00ATQ6FPY, B00005N7PT, B001THPA26...   \n",
       "4  B01BM7TOU6, B000060MKJ, B002PXVYD2, B000BNNIGO...   \n",
       "\n",
       "                                             details                main_cat  \\\n",
       "0  {'Format:': 'Print Magazine', 'Shipping: ': 'C...  Magazine Subscriptions   \n",
       "1  {'Format:': 'Print Magazine', 'Shipping: ': 'C...  Magazine Subscriptions   \n",
       "2  {'Format:': 'Print Magazine', 'Shipping: ': 'C...  Magazine Subscriptions   \n",
       "3  {'Format:': 'Print Magazine', 'Shipping: ': 'C...  Magazine Subscriptions   \n",
       "4  {'Format:': 'Print Magazine', 'Shipping: ': 'C...  Magazine Subscriptions   \n",
       "\n",
       "         asin  \n",
       "0  B00005N7NQ  \n",
       "1  B00005N7OC  \n",
       "2  B00005N7OD  \n",
       "3  B00005N7O9  \n",
       "4  B00005N7O6  "
      ],
      "text/html": [
       "<div>\n",
       "<style scoped>\n",
       "    .dataframe tbody tr th:only-of-type {\n",
       "        vertical-align: middle;\n",
       "    }\n",
       "\n",
       "    .dataframe tbody tr th {\n",
       "        vertical-align: top;\n",
       "    }\n",
       "\n",
       "    .dataframe thead th {\n",
       "        text-align: right;\n",
       "    }\n",
       "</style>\n",
       "<table border=\"1\" class=\"dataframe\">\n",
       "  <thead>\n",
       "    <tr style=\"text-align: right;\">\n",
       "      <th></th>\n",
       "      <th>category</th>\n",
       "      <th>description</th>\n",
       "      <th>title</th>\n",
       "      <th>also_buy</th>\n",
       "      <th>brand</th>\n",
       "      <th>rank</th>\n",
       "      <th>also_view</th>\n",
       "      <th>details</th>\n",
       "      <th>main_cat</th>\n",
       "      <th>asin</th>\n",
       "    </tr>\n",
       "  </thead>\n",
       "  <tbody>\n",
       "    <tr>\n",
       "      <th>0</th>\n",
       "      <td>Magazine Subscriptions, Professional &amp; Educati...</td>\n",
       "      <td>REASON is edited for people interested in econ...</td>\n",
       "      <td>&lt;span class=\"a-size-medium a-color-secondary\"</td>\n",
       "      <td>B002PXVYLE, B01MCU84LB, B000UHI2LW, B01AKS14AQ...</td>\n",
       "      <td>Reason Magazine</td>\n",
       "      <td>NaN</td>\n",
       "      <td>B002PXVYLE, B000UHI2LW, B01MCU84LB, B002PXW18E...</td>\n",
       "      <td>{'Format:': 'Print Magazine', 'Shipping: ': 'C...</td>\n",
       "      <td>Magazine Subscriptions</td>\n",
       "      <td>B00005N7NQ</td>\n",
       "    </tr>\n",
       "    <tr>\n",
       "      <th>1</th>\n",
       "      <td>Magazine Subscriptions, Arts, Music &amp;amp; Phot...</td>\n",
       "      <td>Written by and for musicians. Covers a variety...</td>\n",
       "      <td>&lt;span class=\"a-size-medium a-color-secondary\"</td>\n",
       "      <td>B002PXVYGE, B0054LRNC8, B000BVEELE, B00006KC3U...</td>\n",
       "      <td>String Letter Publishers</td>\n",
       "      <td>742 in Magazine Subscriptions (</td>\n",
       "      <td>B002PXVYGE, B0054LRNC8, B00006L16A, 1719064873...</td>\n",
       "      <td>{'Format:': 'Print Magazine', 'Shipping: ': 'C...</td>\n",
       "      <td>Magazine Subscriptions</td>\n",
       "      <td>B00005N7OC</td>\n",
       "    </tr>\n",
       "    <tr>\n",
       "      <th>2</th>\n",
       "      <td>Magazine Subscriptions, Fashion &amp;amp; Style, W...</td>\n",
       "      <td>Allure is the beauty expert. Every issue is fu...</td>\n",
       "      <td>&lt;span class=\"a-size-medium a-color-secondary\"</td>\n",
       "      <td>B001THPA4O, B002PXVZWW, B001THPA1M, B001THPA12...</td>\n",
       "      <td>Conde Nast Publications</td>\n",
       "      <td>NaN</td>\n",
       "      <td>B002PXVZWW, B001THPA4O, B001THPA1M, B01N819UDU...</td>\n",
       "      <td>{'Format:': 'Print Magazine', 'Shipping: ': 'C...</td>\n",
       "      <td>Magazine Subscriptions</td>\n",
       "      <td>B00005N7OD</td>\n",
       "    </tr>\n",
       "    <tr>\n",
       "      <th>3</th>\n",
       "      <td>Magazine Subscriptions, Sports, Recreation &amp; O...</td>\n",
       "      <td>FLIGHT JOURNAL includes articles on aviation h...</td>\n",
       "      <td>&lt;span class=\"a-size-medium a-color-secondary\"</td>\n",
       "      <td>B07JVF7QW4, B00ATQ6FPY, B002G551F6, B00008CGWO...</td>\n",
       "      <td>AirAge Publishing</td>\n",
       "      <td>NaN</td>\n",
       "      <td>B002G551F6, B00ATQ6FPY, B00005N7PT, B001THPA26...</td>\n",
       "      <td>{'Format:': 'Print Magazine', 'Shipping: ': 'C...</td>\n",
       "      <td>Magazine Subscriptions</td>\n",
       "      <td>B00005N7O9</td>\n",
       "    </tr>\n",
       "    <tr>\n",
       "      <th>4</th>\n",
       "      <td>Magazine Subscriptions, Professional &amp; Educati...</td>\n",
       "      <td>RIDER is published for the road and street rid...</td>\n",
       "      <td>&lt;span class=\"a-size-medium a-color-secondary\"</td>\n",
       "      <td>B002PXVYD2, B01BM7TOU6, B000060MKJ, B000BNNIGO...</td>\n",
       "      <td>EPG Media &amp; Specialty Information</td>\n",
       "      <td>NaN</td>\n",
       "      <td>B01BM7TOU6, B000060MKJ, B002PXVYD2, B000BNNIGO...</td>\n",
       "      <td>{'Format:': 'Print Magazine', 'Shipping: ': 'C...</td>\n",
       "      <td>Magazine Subscriptions</td>\n",
       "      <td>B00005N7O6</td>\n",
       "    </tr>\n",
       "  </tbody>\n",
       "</table>\n",
       "</div>"
      ]
     },
     "execution_count": 116,
     "metadata": {},
     "output_type": "execute_result"
    }
   ],
   "execution_count": 116
  },
  {
   "metadata": {
    "ExecuteTime": {
     "end_time": "2025-02-25T19:32:51.386522Z",
     "start_time": "2025-02-25T19:32:51.383533Z"
    }
   },
   "cell_type": "code",
   "source": [
    "df_metaLux['title'].tail()\n",
    "\n"
   ],
   "id": "43125a28247fe85d",
   "outputs": [
    {
     "data": {
      "text/plain": [
       "12294              CND Shellac Power Polish, Patina Buckle\n",
       "12295                 CND Shellac power polish denim patch\n",
       "12296                         CND Shellac, Leather Satchel\n",
       "12297    Juicy Couture I Love Juicy Couture, 1.7 fl. Oz...\n",
       "12298    Juicy Couture I Love Juicy Couture, 3.4 fl. Oz...\n",
       "Name: title, dtype: object"
      ]
     },
     "execution_count": 120,
     "metadata": {},
     "output_type": "execute_result"
    }
   ],
   "execution_count": 120
  },
  {
   "metadata": {
    "ExecuteTime": {
     "end_time": "2025-03-25T19:01:48.971558Z",
     "start_time": "2025-03-25T19:01:48.619298Z"
    }
   },
   "cell_type": "code",
   "source": [
    "import pandas as pd\n",
    "\n",
    "df = pd.read_json('meta_Luxury_Beauty.json', lines=True)"
   ],
   "id": "ff0de1e7f48194f6",
   "outputs": [],
   "execution_count": 2
  },
  {
   "metadata": {
    "ExecuteTime": {
     "end_time": "2025-03-25T19:01:54.975727Z",
     "start_time": "2025-03-25T19:01:54.963595Z"
    }
   },
   "cell_type": "code",
   "source": "df.info()",
   "id": "ed67aaec2c8fa6e2",
   "outputs": [
    {
     "name": "stdout",
     "output_type": "stream",
     "text": [
      "<class 'pandas.core.frame.DataFrame'>\n",
      "RangeIndex: 12299 entries, 0 to 12298\n",
      "Data columns (total 19 columns):\n",
      " #   Column           Non-Null Count  Dtype         \n",
      "---  ------           --------------  -----         \n",
      " 0   category         12299 non-null  object        \n",
      " 1   tech1            12299 non-null  object        \n",
      " 2   description      12299 non-null  object        \n",
      " 3   fit              12299 non-null  object        \n",
      " 4   title            12299 non-null  object        \n",
      " 5   also_buy         12299 non-null  object        \n",
      " 6   tech2            12299 non-null  object        \n",
      " 7   brand            12299 non-null  object        \n",
      " 8   feature          12299 non-null  object        \n",
      " 9   rank             12299 non-null  object        \n",
      " 10  also_view        12299 non-null  object        \n",
      " 11  details          12299 non-null  object        \n",
      " 12  main_cat         12299 non-null  object        \n",
      " 13  similar_item     12299 non-null  object        \n",
      " 14  date             0 non-null      datetime64[ns]\n",
      " 15  price            12299 non-null  object        \n",
      " 16  asin             12299 non-null  object        \n",
      " 17  imageURL         12299 non-null  object        \n",
      " 18  imageURLHighRes  12299 non-null  object        \n",
      "dtypes: datetime64[ns](1), object(18)\n",
      "memory usage: 1.8+ MB\n"
     ]
    }
   ],
   "execution_count": 3
  },
  {
   "metadata": {
    "ExecuteTime": {
     "end_time": "2025-03-26T12:59:39.161015Z",
     "start_time": "2025-03-26T12:59:39.156708Z"
    }
   },
   "cell_type": "code",
   "source": "df['description'].tail(50)",
   "id": "a28519efb06a6eff",
   "outputs": [
    {
     "data": {
      "text/plain": [
       "12249    [A new trick in your beauty arsenal, glazen ey...\n",
       "12250    [Stay bright with our restorative silkening tr...\n",
       "12251    [The mudder of all mud masks. Patchologys revo...\n",
       "12252    [Youre never fully dressed without a proper br...\n",
       "12253    [Get the perfect nude pout with our plush rush...\n",
       "12254    [THE REAL GLOW GETTER Slip into something a li...\n",
       "12255    [Immediately illuminate blonde and silver hair...\n",
       "12256    [All jinsoon formulas are 5-free: formulated w...\n",
       "12257    [Vita Liberata Body Blur Instant HD Skin Finis...\n",
       "12258    [In the Greek town of Kozani, lush Krocus flow...\n",
       "12259    [Gift Set includes: Bango Di Vita Gentle Foami...\n",
       "12260    [Gift Set includes: Fango Purificant Purifying...\n",
       "12261    [Skin Hydrator Plus Broad Spectrum SPF 30: For...\n",
       "12262    [Give your body and mind space to unwind with ...\n",
       "12263    [PCA Skin C-Quench Antioxidant Serum 1 oz: Hyd...\n",
       "12264    [Vita liberata self tanning anti age serum con...\n",
       "12265    [A shampoo specifically formulated to exfoliat...\n",
       "12266    [Dietary supplement that supports healthy hair...\n",
       "12267    [Elution shampoo soothes and restores scalps n...\n",
       "12268    [Gentle facial cleanser that thoroughly cleans...\n",
       "12269    [A revitalizing lotion that nourishes and stre...\n",
       "12270    [PREVAGEAnti-Aging Daily Serum protects and co...\n",
       "12271    [Glytone Sunscreen Lotion SPF 40 shields your ...\n",
       "12272    [Reveal a more balanced complexion with this r...\n",
       "12273    [Enriched with moisturizing lemon extract, thi...\n",
       "12274    [This make-up remover with a glide-on and fres...\n",
       "12275    [Inspired by the traditional recipe from maste...\n",
       "12276    [There is a Mediterranean legend of a beautifu...\n",
       "12277    [Lavender was one of the first flowers distill...\n",
       "12278    [This duo includes:- Lavender Body Lotion 8.4 ...\n",
       "12279    [P.D.O. (Protected Designation of Origin)Laven...\n",
       "12280    [An ultra-gentle, sulfate-free facial cleanser...\n",
       "12281    [Uncover remarkable results with 10 skin-speci...\n",
       "12282    [Soothe, calm and nourish the skin with green ...\n",
       "12283    [Formulated specifically for women with mature...\n",
       "12284    [Celebrate the season with Viva La Juicy Ros p...\n",
       "12285    [Composed with some of the most cherished scen...\n",
       "12286    [Rotate your way to perfect waves with the Bea...\n",
       "12287    [Delicately perfumed with citrus scented Verbe...\n",
       "12288    [This luxurious hand and nail cream, enriched ...\n",
       "12289    [The unique infusion of exotic Tahitian Monoi ...\n",
       "12290    [This natural blend of highly concentrated pla...\n",
       "12291                                                   []\n",
       "12292    [With a color-enhancing complex, this conditio...\n",
       "12293    [CND Shellac was designed to be used as a syst...\n",
       "12294    [, CND Craft Culture Collection: Patina Buckle...\n",
       "12295    [CND Shellac was designed to be used as a syst...\n",
       "12296    [CND Shellac was designed to be used as a syst...\n",
       "12297    [The I AM JUICY COUTURE girl is once again tak...\n",
       "12298    [I Love Juicy Couture Eau De Parfum Spray 3.4 ...\n",
       "Name: description, dtype: object"
      ]
     },
     "execution_count": 7,
     "metadata": {},
     "output_type": "execute_result"
    }
   ],
   "execution_count": 7
  },
  {
   "metadata": {},
   "cell_type": "code",
   "outputs": [],
   "execution_count": null,
   "source": "",
   "id": "eb4144ee49a11743"
  },
  {
   "metadata": {},
   "cell_type": "code",
   "outputs": [],
   "execution_count": null,
   "source": "",
   "id": "92d550e8a4337846"
  },
  {
   "metadata": {},
   "cell_type": "code",
   "outputs": [],
   "execution_count": null,
   "source": "",
   "id": "7d00272aff2aa297"
  }
 ],
 "metadata": {
  "kernelspec": {
   "display_name": "Python 3",
   "language": "python",
   "name": "python3"
  },
  "language_info": {
   "codemirror_mode": {
    "name": "ipython",
    "version": 2
   },
   "file_extension": ".py",
   "mimetype": "text/x-python",
   "name": "python",
   "nbconvert_exporter": "python",
   "pygments_lexer": "ipython2",
   "version": "2.7.6"
  }
 },
 "nbformat": 4,
 "nbformat_minor": 5
}
