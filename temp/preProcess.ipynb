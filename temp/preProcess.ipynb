{
 "cells": [
  {
   "cell_type": "code",
   "id": "initial_id",
   "metadata": {
    "collapsed": true,
    "ExecuteTime": {
     "end_time": "2025-03-02T14:07:50.323723Z",
     "start_time": "2025-03-02T14:07:50.321630Z"
    }
   },
   "source": [
    "import pandas as pd\n",
    "import numpy as np\n"
   ],
   "outputs": [],
   "execution_count": 42
  },
  {
   "metadata": {
    "ExecuteTime": {
     "end_time": "2025-03-02T14:07:50.538317Z",
     "start_time": "2025-03-02T14:07:50.369219Z"
    }
   },
   "cell_type": "code",
   "source": [
    "# Line-delimited JSON to DataFrame\n",
    "# file_path_movie_subset = \"/home/kavach/Dev/Publication/A-LLM-Rec/A-LLMRec_copy_original/data/amazon/meta_Movies_and_TV.json\" #\n",
    "file_path_luxury_beauty = '/home/kavach/Dev/Publication/A-LLM-Rec/A-LLMRec_copy_original/temp/data/Lux_Beauty/WholeData/meta_Luxury_Beauty.json'\n",
    "# file_path_video_games = 'data/meta_Video_Games.json'\n",
    "# file_path_magazine = 'data/meta_Magazine_Subscriptions.json'\n",
    "#\n",
    "\n",
    "# original_meta_magazine = pd.read_json(file_path_magazine, lines=True)\n",
    "original_meta_luxury = pd.read_json(file_path_luxury_beauty, lines=True)\n",
    "# original_meta_movies = pd.read_json(file_path_movie_subset, lines=True)\n",
    "# original_meta_games = pd.read_json(file_path_video_games, lines=True)\n",
    "\n",
    "# df_metaMag = original_meta_magazine.copy()\n",
    "df_metaLux = original_meta_luxury.copy()\n",
    "# df_metaMovies = original_meta_movies.copy()\n",
    "# df_metaGames = original_meta_games.copy()"
   ],
   "id": "75712d0dc08c7d46",
   "outputs": [],
   "execution_count": 43
  },
  {
   "metadata": {
    "ExecuteTime": {
     "end_time": "2025-03-02T14:07:50.559776Z",
     "start_time": "2025-03-02T14:07:50.548914Z"
    }
   },
   "cell_type": "code",
   "source": "df_metaLux.info()",
   "id": "84a56385449e89af",
   "outputs": [
    {
     "name": "stdout",
     "output_type": "stream",
     "text": [
      "<class 'pandas.core.frame.DataFrame'>\n",
      "RangeIndex: 12299 entries, 0 to 12298\n",
      "Data columns (total 19 columns):\n",
      " #   Column           Non-Null Count  Dtype         \n",
      "---  ------           --------------  -----         \n",
      " 0   category         12299 non-null  object        \n",
      " 1   tech1            12299 non-null  object        \n",
      " 2   description      12299 non-null  object        \n",
      " 3   fit              12299 non-null  object        \n",
      " 4   title            12299 non-null  object        \n",
      " 5   also_buy         12299 non-null  object        \n",
      " 6   tech2            12299 non-null  object        \n",
      " 7   brand            12299 non-null  object        \n",
      " 8   feature          12299 non-null  object        \n",
      " 9   rank             12299 non-null  object        \n",
      " 10  also_view        12299 non-null  object        \n",
      " 11  details          12299 non-null  object        \n",
      " 12  main_cat         12299 non-null  object        \n",
      " 13  similar_item     12299 non-null  object        \n",
      " 14  date             0 non-null      datetime64[ns]\n",
      " 15  price            12299 non-null  object        \n",
      " 16  asin             12299 non-null  object        \n",
      " 17  imageURL         12299 non-null  object        \n",
      " 18  imageURLHighRes  12299 non-null  object        \n",
      "dtypes: datetime64[ns](1), object(18)\n",
      "memory usage: 1.8+ MB\n"
     ]
    }
   ],
   "execution_count": 44
  },
  {
   "metadata": {
    "ExecuteTime": {
     "end_time": "2025-03-02T14:07:50.603674Z",
     "start_time": "2025-03-02T14:07:50.595561Z"
    }
   },
   "cell_type": "code",
   "source": "df_metaLux.head()",
   "id": "4aa20ee8ec1d233d",
   "outputs": [
    {
     "data": {
      "text/plain": [
       "  category tech1                                        description fit  \\\n",
       "0       []        [After a long day of handling thorny situation...       \n",
       "1       []        [If you haven't experienced the pleasures of b...       \n",
       "2       []        [Rich, black mineral mud, harvested from the b...       \n",
       "3       []        [This liquid soap with convenient pump dispens...       \n",
       "4       []        [Remember why you love your favorite blanket? ...       \n",
       "\n",
       "                                               title  \\\n",
       "0  Crabtree &amp; Evelyn - Gardener's Ultra-Moist...   \n",
       "1                                   AHAVA Bath Salts   \n",
       "2      AHAVA Dead Sea Mineral Mud, 8.5 oz, Pack of 4   \n",
       "3  Crabtree &amp; Evelyn Hand Soap, Gardeners, 10...   \n",
       "4                                 Soy Milk Hand Crme   \n",
       "\n",
       "                                            also_buy tech2 brand feature  \\\n",
       "0  [B00GHX7H0A, B00FRERO7G, B00R68QXCS, B000Z65AZ...                  []   \n",
       "1                                                 []                  []   \n",
       "2                                                 []                  []   \n",
       "3                                                 []                  []   \n",
       "4  [B000NZT6KM, B001BY229Q, B008J724QY, B0009YGKJ...                  []   \n",
       "\n",
       "                                        rank  \\\n",
       "0          4,324 in Beauty & Personal Care (   \n",
       "1      1,633,549 in Beauty & Personal Care (   \n",
       "2  1,806,710 in Beauty &amp; Personal Care (   \n",
       "3                                         []   \n",
       "4     42,464 in Beauty &amp; Personal Care (   \n",
       "\n",
       "                                           also_view  \\\n",
       "0  [B00FRERO7G, B00GHX7H0A, B07GFHJRMX, B00TJ3NBN...   \n",
       "1                                                 []   \n",
       "2                                                 []   \n",
       "3  [B00004U9V2, B00GHX7H0A, B00FRERO7G, B00R68QXC...   \n",
       "4                                                 []   \n",
       "\n",
       "                                             details       main_cat  \\\n",
       "0  {'\n",
       "    Product Dimensions: \n",
       "    ': '2.2 x 2.2 ...  Luxury Beauty   \n",
       "1  {'\n",
       "    Product Dimensions: \n",
       "    ': '3 x 3.5 x ...  Luxury Beauty   \n",
       "2  {'\n",
       "    Product Dimensions: \n",
       "    ': '5.1 x 3 x ...  Luxury Beauty   \n",
       "3  {'\n",
       "    Product Dimensions: \n",
       "    ': '2.6 x 2.6 ...  Luxury Beauty   \n",
       "4  {'\n",
       "    Product Dimensions: \n",
       "    ': '7.2 x 2.2 ...  Luxury Beauty   \n",
       "\n",
       "  similar_item date   price        asin  \\\n",
       "0               NaT  $30.00  B00004U9V2   \n",
       "1               NaT          B0000531EN   \n",
       "2               NaT          B0000532JH   \n",
       "3               NaT  $15.99  B00005A77F   \n",
       "4               NaT  $18.00  B00005NDTD   \n",
       "\n",
       "                                            imageURL  \\\n",
       "0  [https://images-na.ssl-images-amazon.com/image...   \n",
       "1                                                 []   \n",
       "2  [https://images-na.ssl-images-amazon.com/image...   \n",
       "3  [https://images-na.ssl-images-amazon.com/image...   \n",
       "4  [https://images-na.ssl-images-amazon.com/image...   \n",
       "\n",
       "                                     imageURLHighRes  \n",
       "0  [https://images-na.ssl-images-amazon.com/image...  \n",
       "1                                                 []  \n",
       "2  [https://images-na.ssl-images-amazon.com/image...  \n",
       "3  [https://images-na.ssl-images-amazon.com/image...  \n",
       "4  [https://images-na.ssl-images-amazon.com/image...  "
      ],
      "text/html": [
       "<div>\n",
       "<style scoped>\n",
       "    .dataframe tbody tr th:only-of-type {\n",
       "        vertical-align: middle;\n",
       "    }\n",
       "\n",
       "    .dataframe tbody tr th {\n",
       "        vertical-align: top;\n",
       "    }\n",
       "\n",
       "    .dataframe thead th {\n",
       "        text-align: right;\n",
       "    }\n",
       "</style>\n",
       "<table border=\"1\" class=\"dataframe\">\n",
       "  <thead>\n",
       "    <tr style=\"text-align: right;\">\n",
       "      <th></th>\n",
       "      <th>category</th>\n",
       "      <th>tech1</th>\n",
       "      <th>description</th>\n",
       "      <th>fit</th>\n",
       "      <th>title</th>\n",
       "      <th>also_buy</th>\n",
       "      <th>tech2</th>\n",
       "      <th>brand</th>\n",
       "      <th>feature</th>\n",
       "      <th>rank</th>\n",
       "      <th>also_view</th>\n",
       "      <th>details</th>\n",
       "      <th>main_cat</th>\n",
       "      <th>similar_item</th>\n",
       "      <th>date</th>\n",
       "      <th>price</th>\n",
       "      <th>asin</th>\n",
       "      <th>imageURL</th>\n",
       "      <th>imageURLHighRes</th>\n",
       "    </tr>\n",
       "  </thead>\n",
       "  <tbody>\n",
       "    <tr>\n",
       "      <th>0</th>\n",
       "      <td>[]</td>\n",
       "      <td></td>\n",
       "      <td>[After a long day of handling thorny situation...</td>\n",
       "      <td></td>\n",
       "      <td>Crabtree &amp;amp; Evelyn - Gardener's Ultra-Moist...</td>\n",
       "      <td>[B00GHX7H0A, B00FRERO7G, B00R68QXCS, B000Z65AZ...</td>\n",
       "      <td></td>\n",
       "      <td></td>\n",
       "      <td>[]</td>\n",
       "      <td>4,324 in Beauty &amp; Personal Care (</td>\n",
       "      <td>[B00FRERO7G, B00GHX7H0A, B07GFHJRMX, B00TJ3NBN...</td>\n",
       "      <td>{'\n",
       "    Product Dimensions: \n",
       "    ': '2.2 x 2.2 ...</td>\n",
       "      <td>Luxury Beauty</td>\n",
       "      <td></td>\n",
       "      <td>NaT</td>\n",
       "      <td>$30.00</td>\n",
       "      <td>B00004U9V2</td>\n",
       "      <td>[https://images-na.ssl-images-amazon.com/image...</td>\n",
       "      <td>[https://images-na.ssl-images-amazon.com/image...</td>\n",
       "    </tr>\n",
       "    <tr>\n",
       "      <th>1</th>\n",
       "      <td>[]</td>\n",
       "      <td></td>\n",
       "      <td>[If you haven't experienced the pleasures of b...</td>\n",
       "      <td></td>\n",
       "      <td>AHAVA Bath Salts</td>\n",
       "      <td>[]</td>\n",
       "      <td></td>\n",
       "      <td></td>\n",
       "      <td>[]</td>\n",
       "      <td>1,633,549 in Beauty &amp; Personal Care (</td>\n",
       "      <td>[]</td>\n",
       "      <td>{'\n",
       "    Product Dimensions: \n",
       "    ': '3 x 3.5 x ...</td>\n",
       "      <td>Luxury Beauty</td>\n",
       "      <td></td>\n",
       "      <td>NaT</td>\n",
       "      <td></td>\n",
       "      <td>B0000531EN</td>\n",
       "      <td>[]</td>\n",
       "      <td>[]</td>\n",
       "    </tr>\n",
       "    <tr>\n",
       "      <th>2</th>\n",
       "      <td>[]</td>\n",
       "      <td></td>\n",
       "      <td>[Rich, black mineral mud, harvested from the b...</td>\n",
       "      <td></td>\n",
       "      <td>AHAVA Dead Sea Mineral Mud, 8.5 oz, Pack of 4</td>\n",
       "      <td>[]</td>\n",
       "      <td></td>\n",
       "      <td></td>\n",
       "      <td>[]</td>\n",
       "      <td>1,806,710 in Beauty &amp;amp; Personal Care (</td>\n",
       "      <td>[]</td>\n",
       "      <td>{'\n",
       "    Product Dimensions: \n",
       "    ': '5.1 x 3 x ...</td>\n",
       "      <td>Luxury Beauty</td>\n",
       "      <td></td>\n",
       "      <td>NaT</td>\n",
       "      <td></td>\n",
       "      <td>B0000532JH</td>\n",
       "      <td>[https://images-na.ssl-images-amazon.com/image...</td>\n",
       "      <td>[https://images-na.ssl-images-amazon.com/image...</td>\n",
       "    </tr>\n",
       "    <tr>\n",
       "      <th>3</th>\n",
       "      <td>[]</td>\n",
       "      <td></td>\n",
       "      <td>[This liquid soap with convenient pump dispens...</td>\n",
       "      <td></td>\n",
       "      <td>Crabtree &amp;amp; Evelyn Hand Soap, Gardeners, 10...</td>\n",
       "      <td>[]</td>\n",
       "      <td></td>\n",
       "      <td></td>\n",
       "      <td>[]</td>\n",
       "      <td>[]</td>\n",
       "      <td>[B00004U9V2, B00GHX7H0A, B00FRERO7G, B00R68QXC...</td>\n",
       "      <td>{'\n",
       "    Product Dimensions: \n",
       "    ': '2.6 x 2.6 ...</td>\n",
       "      <td>Luxury Beauty</td>\n",
       "      <td></td>\n",
       "      <td>NaT</td>\n",
       "      <td>$15.99</td>\n",
       "      <td>B00005A77F</td>\n",
       "      <td>[https://images-na.ssl-images-amazon.com/image...</td>\n",
       "      <td>[https://images-na.ssl-images-amazon.com/image...</td>\n",
       "    </tr>\n",
       "    <tr>\n",
       "      <th>4</th>\n",
       "      <td>[]</td>\n",
       "      <td></td>\n",
       "      <td>[Remember why you love your favorite blanket? ...</td>\n",
       "      <td></td>\n",
       "      <td>Soy Milk Hand Crme</td>\n",
       "      <td>[B000NZT6KM, B001BY229Q, B008J724QY, B0009YGKJ...</td>\n",
       "      <td></td>\n",
       "      <td></td>\n",
       "      <td>[]</td>\n",
       "      <td>42,464 in Beauty &amp;amp; Personal Care (</td>\n",
       "      <td>[]</td>\n",
       "      <td>{'\n",
       "    Product Dimensions: \n",
       "    ': '7.2 x 2.2 ...</td>\n",
       "      <td>Luxury Beauty</td>\n",
       "      <td></td>\n",
       "      <td>NaT</td>\n",
       "      <td>$18.00</td>\n",
       "      <td>B00005NDTD</td>\n",
       "      <td>[https://images-na.ssl-images-amazon.com/image...</td>\n",
       "      <td>[https://images-na.ssl-images-amazon.com/image...</td>\n",
       "    </tr>\n",
       "  </tbody>\n",
       "</table>\n",
       "</div>"
      ]
     },
     "execution_count": 45,
     "metadata": {},
     "output_type": "execute_result"
    }
   ],
   "execution_count": 45
  },
  {
   "metadata": {
    "ExecuteTime": {
     "end_time": "2025-03-02T14:07:50.816107Z",
     "start_time": "2025-03-02T14:07:50.814324Z"
    }
   },
   "cell_type": "code",
   "source": [
    "# Data is in list\n",
    "print(type(df_metaLux['description'].iloc[0]))\n"
   ],
   "id": "da3cbf6a64f98b95",
   "outputs": [
    {
     "name": "stdout",
     "output_type": "stream",
     "text": [
      "<class 'list'>\n"
     ]
    }
   ],
   "execution_count": 46
  },
  {
   "metadata": {
    "ExecuteTime": {
     "end_time": "2025-03-02T14:07:50.871279Z",
     "start_time": "2025-03-02T14:07:50.866814Z"
    }
   },
   "cell_type": "code",
   "source": [
    "# PreProcessing\n",
    "\n",
    "# Dropping these because either empty or not useful\n",
    "df_metaLux.drop(['imageURL', 'imageURLHighRes', 'date', 'tech1', 'fit', 'tech2', 'feature', 'similar_item', 'price'], axis=True, inplace=True)\n",
    "\n",
    "\n",
    "\n",
    "# Removes all the null values\n",
    "# df_metaMag.replace(r'^\\s*$', np.nan, regex=True, inplace=True)\n"
   ],
   "id": "92222b4bc6df3fc9",
   "outputs": [],
   "execution_count": 47
  },
  {
   "metadata": {
    "ExecuteTime": {
     "end_time": "2025-03-02T14:07:50.911347Z",
     "start_time": "2025-03-02T14:07:50.905276Z"
    }
   },
   "cell_type": "code",
   "source": "df_metaLux.head()",
   "id": "e4ee2f02c6802be1",
   "outputs": [
    {
     "data": {
      "text/plain": [
       "  category                                        description  \\\n",
       "0       []  [After a long day of handling thorny situation...   \n",
       "1       []  [If you haven't experienced the pleasures of b...   \n",
       "2       []  [Rich, black mineral mud, harvested from the b...   \n",
       "3       []  [This liquid soap with convenient pump dispens...   \n",
       "4       []  [Remember why you love your favorite blanket? ...   \n",
       "\n",
       "                                               title  \\\n",
       "0  Crabtree &amp; Evelyn - Gardener's Ultra-Moist...   \n",
       "1                                   AHAVA Bath Salts   \n",
       "2      AHAVA Dead Sea Mineral Mud, 8.5 oz, Pack of 4   \n",
       "3  Crabtree &amp; Evelyn Hand Soap, Gardeners, 10...   \n",
       "4                                 Soy Milk Hand Crme   \n",
       "\n",
       "                                            also_buy brand  \\\n",
       "0  [B00GHX7H0A, B00FRERO7G, B00R68QXCS, B000Z65AZ...         \n",
       "1                                                 []         \n",
       "2                                                 []         \n",
       "3                                                 []         \n",
       "4  [B000NZT6KM, B001BY229Q, B008J724QY, B0009YGKJ...         \n",
       "\n",
       "                                        rank  \\\n",
       "0          4,324 in Beauty & Personal Care (   \n",
       "1      1,633,549 in Beauty & Personal Care (   \n",
       "2  1,806,710 in Beauty &amp; Personal Care (   \n",
       "3                                         []   \n",
       "4     42,464 in Beauty &amp; Personal Care (   \n",
       "\n",
       "                                           also_view  \\\n",
       "0  [B00FRERO7G, B00GHX7H0A, B07GFHJRMX, B00TJ3NBN...   \n",
       "1                                                 []   \n",
       "2                                                 []   \n",
       "3  [B00004U9V2, B00GHX7H0A, B00FRERO7G, B00R68QXC...   \n",
       "4                                                 []   \n",
       "\n",
       "                                             details       main_cat  \\\n",
       "0  {'\n",
       "    Product Dimensions: \n",
       "    ': '2.2 x 2.2 ...  Luxury Beauty   \n",
       "1  {'\n",
       "    Product Dimensions: \n",
       "    ': '3 x 3.5 x ...  Luxury Beauty   \n",
       "2  {'\n",
       "    Product Dimensions: \n",
       "    ': '5.1 x 3 x ...  Luxury Beauty   \n",
       "3  {'\n",
       "    Product Dimensions: \n",
       "    ': '2.6 x 2.6 ...  Luxury Beauty   \n",
       "4  {'\n",
       "    Product Dimensions: \n",
       "    ': '7.2 x 2.2 ...  Luxury Beauty   \n",
       "\n",
       "         asin  \n",
       "0  B00004U9V2  \n",
       "1  B0000531EN  \n",
       "2  B0000532JH  \n",
       "3  B00005A77F  \n",
       "4  B00005NDTD  "
      ],
      "text/html": [
       "<div>\n",
       "<style scoped>\n",
       "    .dataframe tbody tr th:only-of-type {\n",
       "        vertical-align: middle;\n",
       "    }\n",
       "\n",
       "    .dataframe tbody tr th {\n",
       "        vertical-align: top;\n",
       "    }\n",
       "\n",
       "    .dataframe thead th {\n",
       "        text-align: right;\n",
       "    }\n",
       "</style>\n",
       "<table border=\"1\" class=\"dataframe\">\n",
       "  <thead>\n",
       "    <tr style=\"text-align: right;\">\n",
       "      <th></th>\n",
       "      <th>category</th>\n",
       "      <th>description</th>\n",
       "      <th>title</th>\n",
       "      <th>also_buy</th>\n",
       "      <th>brand</th>\n",
       "      <th>rank</th>\n",
       "      <th>also_view</th>\n",
       "      <th>details</th>\n",
       "      <th>main_cat</th>\n",
       "      <th>asin</th>\n",
       "    </tr>\n",
       "  </thead>\n",
       "  <tbody>\n",
       "    <tr>\n",
       "      <th>0</th>\n",
       "      <td>[]</td>\n",
       "      <td>[After a long day of handling thorny situation...</td>\n",
       "      <td>Crabtree &amp;amp; Evelyn - Gardener's Ultra-Moist...</td>\n",
       "      <td>[B00GHX7H0A, B00FRERO7G, B00R68QXCS, B000Z65AZ...</td>\n",
       "      <td></td>\n",
       "      <td>4,324 in Beauty &amp; Personal Care (</td>\n",
       "      <td>[B00FRERO7G, B00GHX7H0A, B07GFHJRMX, B00TJ3NBN...</td>\n",
       "      <td>{'\n",
       "    Product Dimensions: \n",
       "    ': '2.2 x 2.2 ...</td>\n",
       "      <td>Luxury Beauty</td>\n",
       "      <td>B00004U9V2</td>\n",
       "    </tr>\n",
       "    <tr>\n",
       "      <th>1</th>\n",
       "      <td>[]</td>\n",
       "      <td>[If you haven't experienced the pleasures of b...</td>\n",
       "      <td>AHAVA Bath Salts</td>\n",
       "      <td>[]</td>\n",
       "      <td></td>\n",
       "      <td>1,633,549 in Beauty &amp; Personal Care (</td>\n",
       "      <td>[]</td>\n",
       "      <td>{'\n",
       "    Product Dimensions: \n",
       "    ': '3 x 3.5 x ...</td>\n",
       "      <td>Luxury Beauty</td>\n",
       "      <td>B0000531EN</td>\n",
       "    </tr>\n",
       "    <tr>\n",
       "      <th>2</th>\n",
       "      <td>[]</td>\n",
       "      <td>[Rich, black mineral mud, harvested from the b...</td>\n",
       "      <td>AHAVA Dead Sea Mineral Mud, 8.5 oz, Pack of 4</td>\n",
       "      <td>[]</td>\n",
       "      <td></td>\n",
       "      <td>1,806,710 in Beauty &amp;amp; Personal Care (</td>\n",
       "      <td>[]</td>\n",
       "      <td>{'\n",
       "    Product Dimensions: \n",
       "    ': '5.1 x 3 x ...</td>\n",
       "      <td>Luxury Beauty</td>\n",
       "      <td>B0000532JH</td>\n",
       "    </tr>\n",
       "    <tr>\n",
       "      <th>3</th>\n",
       "      <td>[]</td>\n",
       "      <td>[This liquid soap with convenient pump dispens...</td>\n",
       "      <td>Crabtree &amp;amp; Evelyn Hand Soap, Gardeners, 10...</td>\n",
       "      <td>[]</td>\n",
       "      <td></td>\n",
       "      <td>[]</td>\n",
       "      <td>[B00004U9V2, B00GHX7H0A, B00FRERO7G, B00R68QXC...</td>\n",
       "      <td>{'\n",
       "    Product Dimensions: \n",
       "    ': '2.6 x 2.6 ...</td>\n",
       "      <td>Luxury Beauty</td>\n",
       "      <td>B00005A77F</td>\n",
       "    </tr>\n",
       "    <tr>\n",
       "      <th>4</th>\n",
       "      <td>[]</td>\n",
       "      <td>[Remember why you love your favorite blanket? ...</td>\n",
       "      <td>Soy Milk Hand Crme</td>\n",
       "      <td>[B000NZT6KM, B001BY229Q, B008J724QY, B0009YGKJ...</td>\n",
       "      <td></td>\n",
       "      <td>42,464 in Beauty &amp;amp; Personal Care (</td>\n",
       "      <td>[]</td>\n",
       "      <td>{'\n",
       "    Product Dimensions: \n",
       "    ': '7.2 x 2.2 ...</td>\n",
       "      <td>Luxury Beauty</td>\n",
       "      <td>B00005NDTD</td>\n",
       "    </tr>\n",
       "  </tbody>\n",
       "</table>\n",
       "</div>"
      ]
     },
     "execution_count": 48,
     "metadata": {},
     "output_type": "execute_result"
    }
   ],
   "execution_count": 48
  },
  {
   "metadata": {
    "ExecuteTime": {
     "end_time": "2025-03-02T14:07:51.003148Z",
     "start_time": "2025-03-02T14:07:50.967488Z"
    }
   },
   "cell_type": "code",
   "source": [
    "# Converting list into String\n",
    "df_metaLux = df_metaLux.applymap(lambda x: \", \".join(x) if isinstance(x, list) else str(x))\n"
   ],
   "id": "c51a63376b6ea9b9",
   "outputs": [
    {
     "name": "stderr",
     "output_type": "stream",
     "text": [
      "/tmp/ipykernel_1401696/677433842.py:2: FutureWarning: DataFrame.applymap has been deprecated. Use DataFrame.map instead.\n",
      "  df_metaLux = df_metaLux.applymap(lambda x: \", \".join(x) if isinstance(x, list) else str(x))\n"
     ]
    }
   ],
   "execution_count": 49
  },
  {
   "metadata": {
    "ExecuteTime": {
     "end_time": "2025-03-02T14:07:51.014290Z",
     "start_time": "2025-03-02T14:07:51.012327Z"
    }
   },
   "cell_type": "code",
   "source": "print(type(df_metaLux['description'].iloc[0]))\n",
   "id": "814254a39e689988",
   "outputs": [
    {
     "name": "stdout",
     "output_type": "stream",
     "text": [
      "<class 'str'>\n"
     ]
    }
   ],
   "execution_count": 50
  },
  {
   "metadata": {
    "ExecuteTime": {
     "end_time": "2025-03-02T14:07:51.042564Z",
     "start_time": "2025-03-02T14:07:51.036108Z"
    }
   },
   "cell_type": "code",
   "source": [
    "total_empty = (df_metaLux == \"\").sum()\n",
    "print(\"Total empty strings:\", total_empty)\n"
   ],
   "id": "dec1f59d1a6b43a5",
   "outputs": [
    {
     "name": "stdout",
     "output_type": "stream",
     "text": [
      "Total empty strings: category       12299\n",
      "description      150\n",
      "title              0\n",
      "also_buy        4575\n",
      "brand          12287\n",
      "rank              98\n",
      "also_view       3253\n",
      "details            0\n",
      "main_cat           0\n",
      "asin               0\n",
      "dtype: int64\n"
     ]
    }
   ],
   "execution_count": 51
  },
  {
   "metadata": {
    "ExecuteTime": {
     "end_time": "2025-03-02T14:07:51.146994Z",
     "start_time": "2025-03-02T14:07:51.117614Z"
    }
   },
   "cell_type": "code",
   "source": [
    "# Replace empty strings (or strings that contain only whitespace) with NaN\n",
    "df_metaLux.replace(r'^\\s*$', np.nan, regex=True, inplace=True)"
   ],
   "id": "42f7f464f4b5c887",
   "outputs": [
    {
     "name": "stderr",
     "output_type": "stream",
     "text": [
      "/tmp/ipykernel_1401696/2213861696.py:2: FutureWarning: Downcasting behavior in `replace` is deprecated and will be removed in a future version. To retain the old behavior, explicitly call `result.infer_objects(copy=False)`. To opt-in to the future behavior, set `pd.set_option('future.no_silent_downcasting', True)`\n",
      "  df_metaLux.replace(r'^\\s*$', np.nan, regex=True, inplace=True)\n"
     ]
    }
   ],
   "execution_count": 52
  },
  {
   "metadata": {
    "ExecuteTime": {
     "end_time": "2025-03-02T14:07:51.255409Z",
     "start_time": "2025-03-02T14:07:51.246336Z"
    }
   },
   "cell_type": "code",
   "source": "df_metaLux.isnull().sum()",
   "id": "5b96de5b6b1293b9",
   "outputs": [
    {
     "data": {
      "text/plain": [
       "category       12299\n",
       "description      150\n",
       "title              0\n",
       "also_buy        4575\n",
       "brand          12287\n",
       "rank              98\n",
       "also_view       3253\n",
       "details            0\n",
       "main_cat           0\n",
       "asin               0\n",
       "dtype: int64"
      ]
     },
     "execution_count": 53,
     "metadata": {},
     "output_type": "execute_result"
    }
   ],
   "execution_count": 53
  },
  {
   "metadata": {
    "ExecuteTime": {
     "end_time": "2025-03-02T14:07:51.307916Z",
     "start_time": "2025-03-02T14:07:51.297966Z"
    }
   },
   "cell_type": "code",
   "source": [
    "# Drop rows with any NaN values\n",
    "df_metaLux.dropna(inplace=True, axis=True)\n"
   ],
   "id": "f433be4b055c48a6",
   "outputs": [],
   "execution_count": 54
  },
  {
   "metadata": {
    "ExecuteTime": {
     "end_time": "2025-03-02T14:07:51.355927Z",
     "start_time": "2025-03-02T14:07:51.350140Z"
    }
   },
   "cell_type": "code",
   "source": "df_metaLux.isnull().sum()",
   "id": "e2ed507115ae68eb",
   "outputs": [
    {
     "data": {
      "text/plain": [
       "title       0\n",
       "details     0\n",
       "main_cat    0\n",
       "asin        0\n",
       "dtype: int64"
      ]
     },
     "execution_count": 55,
     "metadata": {},
     "output_type": "execute_result"
    }
   ],
   "execution_count": 55
  },
  {
   "metadata": {
    "ExecuteTime": {
     "end_time": "2025-03-02T14:07:51.386576Z",
     "start_time": "2025-03-02T14:07:51.381330Z"
    }
   },
   "cell_type": "code",
   "source": "df_metaLux.info()",
   "id": "820cb1a68ab668a0",
   "outputs": [
    {
     "name": "stdout",
     "output_type": "stream",
     "text": [
      "<class 'pandas.core.frame.DataFrame'>\n",
      "RangeIndex: 12299 entries, 0 to 12298\n",
      "Data columns (total 4 columns):\n",
      " #   Column    Non-Null Count  Dtype \n",
      "---  ------    --------------  ----- \n",
      " 0   title     12299 non-null  object\n",
      " 1   details   12299 non-null  object\n",
      " 2   main_cat  12299 non-null  object\n",
      " 3   asin      12299 non-null  object\n",
      "dtypes: object(4)\n",
      "memory usage: 384.5+ KB\n"
     ]
    }
   ],
   "execution_count": 56
  }
 ],
 "metadata": {
  "kernelspec": {
   "display_name": "Python 3",
   "language": "python",
   "name": "python3"
  },
  "language_info": {
   "codemirror_mode": {
    "name": "ipython",
    "version": 2
   },
   "file_extension": ".py",
   "mimetype": "text/x-python",
   "name": "python",
   "nbconvert_exporter": "python",
   "pygments_lexer": "ipython2",
   "version": "2.7.6"
  }
 },
 "nbformat": 4,
 "nbformat_minor": 5
}
