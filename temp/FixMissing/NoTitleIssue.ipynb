{
 "cells": [
  {
   "cell_type": "code",
   "id": "initial_id",
   "metadata": {
    "collapsed": true,
    "ExecuteTime": {
     "end_time": "2025-03-27T13:02:53.052342Z",
     "start_time": "2025-03-27T13:02:52.899581Z"
    }
   },
   "source": "import pandas as pd",
   "outputs": [],
   "execution_count": 1
  },
  {
   "metadata": {
    "ExecuteTime": {
     "end_time": "2025-03-27T13:02:57.257355Z",
     "start_time": "2025-03-27T13:02:54.342189Z"
    }
   },
   "cell_type": "code",
   "source": [
    "original_Lux = pd.read_json('Luxury_Beauty.json', lines=True)\n",
    "original_meta = pd.read_json('meta_Luxury_Beauty.json', lines=True)\n",
    "prime = pd.read_json('meta_Prime_Pantry.json', lines=True)\n",
    "\n",
    "df = original_Lux.copy()\n",
    "meta = original_meta[['title', 'description', 'asin']].copy()\n"
   ],
   "id": "722f240e2abccfd1",
   "outputs": [],
   "execution_count": 2
  },
  {
   "metadata": {
    "ExecuteTime": {
     "end_time": "2025-03-27T13:03:05.356371Z",
     "start_time": "2025-03-27T13:03:05.350034Z"
    }
   },
   "cell_type": "code",
   "source": "df.head()",
   "id": "f29391b0e6fed30b",
   "outputs": [
    {
     "data": {
      "text/plain": [
       "   overall vote  verified   reviewTime      reviewerID        asin  \\\n",
       "0        2    3      True  06 15, 2010  A1Q6MUU0B2ZDQG  B00004U9V2   \n",
       "1        5   14      True   01 7, 2010  A3HO2SQDCZIE9S  B00004U9V2   \n",
       "2        5  NaN      True  04 18, 2018  A2EM03F99X3RJZ  B00004U9V2   \n",
       "3        5  NaN      True  04 18, 2018   A3Z74TDRGD0HU  B00004U9V2   \n",
       "4        5  NaN      True  04 17, 2018  A2UXFNW9RTL4VM  B00004U9V2   \n",
       "\n",
       "    reviewerName                                         reviewText  \\\n",
       "0      D. Poston  I bought two of these 8.5 fl oz hand cream, an...   \n",
       "1        chandra  Believe me, over the years I have tried many, ...   \n",
       "2      Maureen G                                  Great hand lotion   \n",
       "3        Terry K  This is the best for the severely dry skin on ...   \n",
       "4  Patricia Wood  The best non- oily hand cream ever. It heals o...   \n",
       "\n",
       "                         summary  unixReviewTime                  style image  \n",
       "0          dispensers don't work      1276560000                    NaN   NaN  \n",
       "1          Best hand cream ever.      1262822400                    NaN   NaN  \n",
       "2                     Five Stars      1524009600  {'Size:': ' 3.5 oz.'}   NaN  \n",
       "3                     Five Stars      1524009600  {'Size:': ' 3.5 oz.'}   NaN  \n",
       "4  I always have a backup ready.      1523923200  {'Size:': ' 3.5 oz.'}   NaN  "
      ],
      "text/html": [
       "<div>\n",
       "<style scoped>\n",
       "    .dataframe tbody tr th:only-of-type {\n",
       "        vertical-align: middle;\n",
       "    }\n",
       "\n",
       "    .dataframe tbody tr th {\n",
       "        vertical-align: top;\n",
       "    }\n",
       "\n",
       "    .dataframe thead th {\n",
       "        text-align: right;\n",
       "    }\n",
       "</style>\n",
       "<table border=\"1\" class=\"dataframe\">\n",
       "  <thead>\n",
       "    <tr style=\"text-align: right;\">\n",
       "      <th></th>\n",
       "      <th>overall</th>\n",
       "      <th>vote</th>\n",
       "      <th>verified</th>\n",
       "      <th>reviewTime</th>\n",
       "      <th>reviewerID</th>\n",
       "      <th>asin</th>\n",
       "      <th>reviewerName</th>\n",
       "      <th>reviewText</th>\n",
       "      <th>summary</th>\n",
       "      <th>unixReviewTime</th>\n",
       "      <th>style</th>\n",
       "      <th>image</th>\n",
       "    </tr>\n",
       "  </thead>\n",
       "  <tbody>\n",
       "    <tr>\n",
       "      <th>0</th>\n",
       "      <td>2</td>\n",
       "      <td>3</td>\n",
       "      <td>True</td>\n",
       "      <td>06 15, 2010</td>\n",
       "      <td>A1Q6MUU0B2ZDQG</td>\n",
       "      <td>B00004U9V2</td>\n",
       "      <td>D. Poston</td>\n",
       "      <td>I bought two of these 8.5 fl oz hand cream, an...</td>\n",
       "      <td>dispensers don't work</td>\n",
       "      <td>1276560000</td>\n",
       "      <td>NaN</td>\n",
       "      <td>NaN</td>\n",
       "    </tr>\n",
       "    <tr>\n",
       "      <th>1</th>\n",
       "      <td>5</td>\n",
       "      <td>14</td>\n",
       "      <td>True</td>\n",
       "      <td>01 7, 2010</td>\n",
       "      <td>A3HO2SQDCZIE9S</td>\n",
       "      <td>B00004U9V2</td>\n",
       "      <td>chandra</td>\n",
       "      <td>Believe me, over the years I have tried many, ...</td>\n",
       "      <td>Best hand cream ever.</td>\n",
       "      <td>1262822400</td>\n",
       "      <td>NaN</td>\n",
       "      <td>NaN</td>\n",
       "    </tr>\n",
       "    <tr>\n",
       "      <th>2</th>\n",
       "      <td>5</td>\n",
       "      <td>NaN</td>\n",
       "      <td>True</td>\n",
       "      <td>04 18, 2018</td>\n",
       "      <td>A2EM03F99X3RJZ</td>\n",
       "      <td>B00004U9V2</td>\n",
       "      <td>Maureen G</td>\n",
       "      <td>Great hand lotion</td>\n",
       "      <td>Five Stars</td>\n",
       "      <td>1524009600</td>\n",
       "      <td>{'Size:': ' 3.5 oz.'}</td>\n",
       "      <td>NaN</td>\n",
       "    </tr>\n",
       "    <tr>\n",
       "      <th>3</th>\n",
       "      <td>5</td>\n",
       "      <td>NaN</td>\n",
       "      <td>True</td>\n",
       "      <td>04 18, 2018</td>\n",
       "      <td>A3Z74TDRGD0HU</td>\n",
       "      <td>B00004U9V2</td>\n",
       "      <td>Terry K</td>\n",
       "      <td>This is the best for the severely dry skin on ...</td>\n",
       "      <td>Five Stars</td>\n",
       "      <td>1524009600</td>\n",
       "      <td>{'Size:': ' 3.5 oz.'}</td>\n",
       "      <td>NaN</td>\n",
       "    </tr>\n",
       "    <tr>\n",
       "      <th>4</th>\n",
       "      <td>5</td>\n",
       "      <td>NaN</td>\n",
       "      <td>True</td>\n",
       "      <td>04 17, 2018</td>\n",
       "      <td>A2UXFNW9RTL4VM</td>\n",
       "      <td>B00004U9V2</td>\n",
       "      <td>Patricia Wood</td>\n",
       "      <td>The best non- oily hand cream ever. It heals o...</td>\n",
       "      <td>I always have a backup ready.</td>\n",
       "      <td>1523923200</td>\n",
       "      <td>{'Size:': ' 3.5 oz.'}</td>\n",
       "      <td>NaN</td>\n",
       "    </tr>\n",
       "  </tbody>\n",
       "</table>\n",
       "</div>"
      ]
     },
     "execution_count": 3,
     "metadata": {},
     "output_type": "execute_result"
    }
   ],
   "execution_count": 3
  },
  {
   "metadata": {
    "ExecuteTime": {
     "end_time": "2025-03-27T10:46:23.710970Z",
     "start_time": "2025-03-27T10:46:23.706629Z"
    }
   },
   "cell_type": "code",
   "source": "meta.info(100)",
   "id": "8c20161a4751fa25",
   "outputs": [
    {
     "name": "stdout",
     "output_type": "stream",
     "text": [
      "<class 'pandas.core.frame.DataFrame'>\n",
      "RangeIndex: 12299 entries, 0 to 12298\n",
      "Data columns (total 3 columns):\n",
      " #   Column       Non-Null Count  Dtype \n",
      "---  ------       --------------  ----- \n",
      " 0   title        12299 non-null  object\n",
      " 1   description  12299 non-null  object\n",
      " 2   asin         12299 non-null  object\n",
      "dtypes: object(3)\n",
      "memory usage: 288.4+ KB\n"
     ]
    }
   ],
   "execution_count": 26
  },
  {
   "metadata": {
    "ExecuteTime": {
     "end_time": "2025-03-27T10:46:23.953556Z",
     "start_time": "2025-03-27T10:46:23.750622Z"
    }
   },
   "cell_type": "code",
   "source": "df.info()",
   "id": "11d2e254649536c3",
   "outputs": [
    {
     "name": "stdout",
     "output_type": "stream",
     "text": [
      "<class 'pandas.core.frame.DataFrame'>\n",
      "RangeIndex: 574628 entries, 0 to 574627\n",
      "Data columns (total 12 columns):\n",
      " #   Column          Non-Null Count   Dtype \n",
      "---  ------          --------------   ----- \n",
      " 0   overall         574628 non-null  int64 \n",
      " 1   vote            103689 non-null  object\n",
      " 2   verified        574628 non-null  bool  \n",
      " 3   reviewTime      574628 non-null  object\n",
      " 4   reviewerID      574628 non-null  object\n",
      " 5   asin            574628 non-null  object\n",
      " 6   reviewerName    574597 non-null  object\n",
      " 7   reviewText      574228 non-null  object\n",
      " 8   summary         574445 non-null  object\n",
      " 9   unixReviewTime  574628 non-null  int64 \n",
      " 10  style           251013 non-null  object\n",
      " 11  image           7418 non-null    object\n",
      "dtypes: bool(1), int64(2), object(9)\n",
      "memory usage: 48.8+ MB\n"
     ]
    }
   ],
   "execution_count": 27
  },
  {
   "metadata": {
    "ExecuteTime": {
     "end_time": "2025-03-27T10:46:23.968641Z",
     "start_time": "2025-03-27T10:46:23.966222Z"
    }
   },
   "cell_type": "code",
   "source": "original_Lux['summary'][200]",
   "id": "e3fa1155bf8c51ae",
   "outputs": [
    {
     "data": {
      "text/plain": [
       "'This is my favorite hand cream'"
      ]
     },
     "execution_count": 28,
     "metadata": {},
     "output_type": "execute_result"
    }
   ],
   "execution_count": 28
  },
  {
   "metadata": {
    "ExecuteTime": {
     "end_time": "2025-03-27T10:46:24.012784Z",
     "start_time": "2025-03-27T10:46:24.009366Z"
    }
   },
   "cell_type": "code",
   "source": [
    "test_set_meta = meta.sample(n=2500, random_state=42)\n",
    "test_set_meta = test_set_meta.reset_index(drop=True)"
   ],
   "id": "ee7a6e77e88b868e",
   "outputs": [],
   "execution_count": 29
  },
  {
   "metadata": {
    "ExecuteTime": {
     "end_time": "2025-03-27T10:46:24.058060Z",
     "start_time": "2025-03-27T10:46:24.054206Z"
    }
   },
   "cell_type": "code",
   "source": "test_set_meta.info()",
   "id": "2cb4b18e85cbdd5e",
   "outputs": [
    {
     "name": "stdout",
     "output_type": "stream",
     "text": [
      "<class 'pandas.core.frame.DataFrame'>\n",
      "RangeIndex: 2500 entries, 0 to 2499\n",
      "Data columns (total 3 columns):\n",
      " #   Column       Non-Null Count  Dtype \n",
      "---  ------       --------------  ----- \n",
      " 0   title        2500 non-null   object\n",
      " 1   description  2500 non-null   object\n",
      " 2   asin         2500 non-null   object\n",
      "dtypes: object(3)\n",
      "memory usage: 58.7+ KB\n"
     ]
    }
   ],
   "execution_count": 30
  },
  {
   "metadata": {
    "ExecuteTime": {
     "end_time": "2025-03-27T10:46:24.188373Z",
     "start_time": "2025-03-27T10:46:24.101965Z"
    }
   },
   "cell_type": "code",
   "source": [
    "test_set_lux = df.sample(n=114927, random_state=42)\n",
    "test_set_lux = test_set_lux.reset_index(drop=True)"
   ],
   "id": "62aff61c10ffd4bd",
   "outputs": [],
   "execution_count": 31
  },
  {
   "metadata": {
    "ExecuteTime": {
     "end_time": "2025-03-27T10:46:24.255263Z",
     "start_time": "2025-03-27T10:46:24.200396Z"
    }
   },
   "cell_type": "code",
   "source": "test_set_lux.info()",
   "id": "f060a84df953459e",
   "outputs": [
    {
     "name": "stdout",
     "output_type": "stream",
     "text": [
      "<class 'pandas.core.frame.DataFrame'>\n",
      "RangeIndex: 114927 entries, 0 to 114926\n",
      "Data columns (total 12 columns):\n",
      " #   Column          Non-Null Count   Dtype \n",
      "---  ------          --------------   ----- \n",
      " 0   overall         114927 non-null  int64 \n",
      " 1   vote            20690 non-null   object\n",
      " 2   verified        114927 non-null  bool  \n",
      " 3   reviewTime      114927 non-null  object\n",
      " 4   reviewerID      114927 non-null  object\n",
      " 5   asin            114927 non-null  object\n",
      " 6   reviewerName    114921 non-null  object\n",
      " 7   reviewText      114846 non-null  object\n",
      " 8   summary         114891 non-null  object\n",
      " 9   unixReviewTime  114927 non-null  int64 \n",
      " 10  style           50267 non-null   object\n",
      " 11  image           1491 non-null    object\n",
      "dtypes: bool(1), int64(2), object(9)\n",
      "memory usage: 9.8+ MB\n"
     ]
    }
   ],
   "execution_count": 32
  },
  {
   "metadata": {
    "ExecuteTime": {
     "end_time": "2025-03-27T10:46:24.642695Z",
     "start_time": "2025-03-27T10:46:24.266990Z"
    }
   },
   "cell_type": "code",
   "source": [
    "test_set_lux.to_json('test_Luxury_Beauty.json',orient='records', lines=True)\n",
    "\n",
    "# original_meta = test_set_meta"
   ],
   "id": "a275d64cea0eba57",
   "outputs": [],
   "execution_count": 33
  },
  {
   "metadata": {
    "ExecuteTime": {
     "end_time": "2025-03-27T10:46:24.664787Z",
     "start_time": "2025-03-27T10:46:24.654944Z"
    }
   },
   "cell_type": "code",
   "source": "test_set_meta.to_json('test_meta_Luxury_Beauty.json',orient='records', lines=True)",
   "id": "cfa636f211d8cf99",
   "outputs": [],
   "execution_count": 34
  },
  {
   "metadata": {
    "ExecuteTime": {
     "end_time": "2025-03-27T10:46:27.279242Z",
     "start_time": "2025-03-27T10:46:24.708203Z"
    }
   },
   "cell_type": "code",
   "source": [
    "import pandas as pd\n",
    "shit = pd.read_json('Luxury_Beauty.json', lines=True)"
   ],
   "id": "55f4bcaa9da541",
   "outputs": [],
   "execution_count": 35
  },
  {
   "metadata": {
    "ExecuteTime": {
     "end_time": "2025-03-27T10:46:27.488796Z",
     "start_time": "2025-03-27T10:46:27.283368Z"
    }
   },
   "cell_type": "code",
   "source": "shit.info()",
   "id": "a11ae14b4bfbf043",
   "outputs": [
    {
     "name": "stdout",
     "output_type": "stream",
     "text": [
      "<class 'pandas.core.frame.DataFrame'>\n",
      "RangeIndex: 574628 entries, 0 to 574627\n",
      "Data columns (total 12 columns):\n",
      " #   Column          Non-Null Count   Dtype \n",
      "---  ------          --------------   ----- \n",
      " 0   overall         574628 non-null  int64 \n",
      " 1   vote            103689 non-null  object\n",
      " 2   verified        574628 non-null  bool  \n",
      " 3   reviewTime      574628 non-null  object\n",
      " 4   reviewerID      574628 non-null  object\n",
      " 5   asin            574628 non-null  object\n",
      " 6   reviewerName    574597 non-null  object\n",
      " 7   reviewText      574228 non-null  object\n",
      " 8   summary         574445 non-null  object\n",
      " 9   unixReviewTime  574628 non-null  int64 \n",
      " 10  style           251013 non-null  object\n",
      " 11  image           7418 non-null    object\n",
      "dtypes: bool(1), int64(2), object(9)\n",
      "memory usage: 48.8+ MB\n"
     ]
    }
   ],
   "execution_count": 36
  },
  {
   "metadata": {
    "ExecuteTime": {
     "end_time": "2025-03-27T10:46:28.142991Z",
     "start_time": "2025-03-27T10:46:27.527615Z"
    }
   },
   "cell_type": "code",
   "source": [
    "chooth = pd.read_json('test_Luxury_Beauty.json', lines=True)\n",
    "maadar = pd.read_json('test_meta_Luxury_Beauty.json', lines=True)\n"
   ],
   "id": "500313d523d5392e",
   "outputs": [],
   "execution_count": 37
  },
  {
   "metadata": {
    "ExecuteTime": {
     "end_time": "2025-03-27T10:46:28.201439Z",
     "start_time": "2025-03-27T10:46:28.155357Z"
    }
   },
   "cell_type": "code",
   "source": "chooth.info()",
   "id": "c1b99a036e0b0551",
   "outputs": [
    {
     "name": "stdout",
     "output_type": "stream",
     "text": [
      "<class 'pandas.core.frame.DataFrame'>\n",
      "RangeIndex: 114927 entries, 0 to 114926\n",
      "Data columns (total 12 columns):\n",
      " #   Column          Non-Null Count   Dtype \n",
      "---  ------          --------------   ----- \n",
      " 0   overall         114927 non-null  int64 \n",
      " 1   vote            20690 non-null   object\n",
      " 2   verified        114927 non-null  bool  \n",
      " 3   reviewTime      114927 non-null  object\n",
      " 4   reviewerID      114927 non-null  object\n",
      " 5   asin            114927 non-null  object\n",
      " 6   reviewerName    114921 non-null  object\n",
      " 7   reviewText      114846 non-null  object\n",
      " 8   summary         114891 non-null  object\n",
      " 9   unixReviewTime  114927 non-null  int64 \n",
      " 10  style           50267 non-null   object\n",
      " 11  image           1491 non-null    object\n",
      "dtypes: bool(1), int64(2), object(9)\n",
      "memory usage: 9.8+ MB\n"
     ]
    }
   ],
   "execution_count": 38
  },
  {
   "metadata": {
    "ExecuteTime": {
     "end_time": "2025-03-27T10:46:28.216281Z",
     "start_time": "2025-03-27T10:46:28.213226Z"
    }
   },
   "cell_type": "code",
   "source": "maadar.info()",
   "id": "b61357b1aedb9cf6",
   "outputs": [
    {
     "name": "stdout",
     "output_type": "stream",
     "text": [
      "<class 'pandas.core.frame.DataFrame'>\n",
      "RangeIndex: 2500 entries, 0 to 2499\n",
      "Data columns (total 3 columns):\n",
      " #   Column       Non-Null Count  Dtype \n",
      "---  ------       --------------  ----- \n",
      " 0   title        2500 non-null   object\n",
      " 1   description  2500 non-null   object\n",
      " 2   asin         2500 non-null   object\n",
      "dtypes: object(3)\n",
      "memory usage: 58.7+ KB\n"
     ]
    }
   ],
   "execution_count": 39
  },
  {
   "metadata": {
    "ExecuteTime": {
     "end_time": "2025-03-27T18:48:06.576678Z",
     "start_time": "2025-03-27T18:48:06.567340Z"
    }
   },
   "cell_type": "code",
   "source": [
    "import pandas as pd\n",
    "import pickle\n",
    "\n",
    "test = pd.read_json('test_meta_Luxury_Beauty.json', lines=True)\n",
    "with open('Luxury_Beauty_text_name_dict.json', 'rb') as f:\n",
    "    name_dict = pickle.load(f)\n",
    "df = pd.DataFrame(name_dict)"
   ],
   "id": "2e14ba683b18530d",
   "outputs": [],
   "execution_count": 6
  },
  {
   "metadata": {
    "ExecuteTime": {
     "end_time": "2025-03-27T18:48:25.427024Z",
     "start_time": "2025-03-27T18:48:25.422749Z"
    }
   },
   "cell_type": "code",
   "source": "test.info()",
   "id": "bac83ddaa1ca4bc6",
   "outputs": [
    {
     "name": "stdout",
     "output_type": "stream",
     "text": [
      "<class 'pandas.core.frame.DataFrame'>\n",
      "RangeIndex: 2500 entries, 0 to 2499\n",
      "Data columns (total 3 columns):\n",
      " #   Column       Non-Null Count  Dtype \n",
      "---  ------       --------------  ----- \n",
      " 0   title        2500 non-null   object\n",
      " 1   description  2500 non-null   object\n",
      " 2   asin         2500 non-null   object\n",
      "dtypes: object(3)\n",
      "memory usage: 58.7+ KB\n"
     ]
    }
   ],
   "execution_count": 8
  },
  {
   "metadata": {
    "ExecuteTime": {
     "end_time": "2025-03-27T18:48:37.083027Z",
     "start_time": "2025-03-27T18:48:37.079348Z"
    }
   },
   "cell_type": "code",
   "source": "df.info()\n",
   "id": "dc772233f77e6547",
   "outputs": [
    {
     "name": "stdout",
     "output_type": "stream",
     "text": [
      "<class 'pandas.core.frame.DataFrame'>\n",
      "Index: 427 entries, 1 to 2005\n",
      "Data columns (total 2 columns):\n",
      " #   Column       Non-Null Count  Dtype \n",
      "---  ------       --------------  ----- \n",
      " 0   title        427 non-null    object\n",
      " 1   description  427 non-null    object\n",
      "dtypes: object(2)\n",
      "memory usage: 10.0+ KB\n"
     ]
    }
   ],
   "execution_count": 9
  },
  {
   "metadata": {
    "ExecuteTime": {
     "end_time": "2025-03-27T19:26:26.945634Z",
     "start_time": "2025-03-27T19:26:26.940047Z"
    }
   },
   "cell_type": "code",
   "source": [
    "import os\n",
    "import os.path\n",
    "import gzip\n",
    "import json\n",
    "import pickle\n",
    "from tqdm import tqdm\n",
    "from collections import defaultdict\n",
    "\n",
    "def parse(path):\n",
    "    g = gzip.open(path, 'rb')\n",
    "    for l in tqdm(g):\n",
    "        yield json.loads(l)\n",
    "\n",
    "def preprocess(fname):\n",
    "    countU = defaultdict(lambda: 0) #counting how many reviews each user made ( reviewerID)\n",
    "    countP = defaultdict(lambda: 0) # counting how many reviews each product (asin) received.\n",
    "    line = 0\n",
    "\n",
    "    file_path = f'{fname}.json.gz' # data over here\n",
    "\n",
    "    # counting interactions for each user and item\n",
    "    for l in parse(file_path):\n",
    "        line += 1\n",
    "        asin = l['asin']\n",
    "        rev = l['reviewerID']\n",
    "        time = l['unixReviewTime']\n",
    "        countU[rev] += 1\n",
    "        countP[asin] += 1\n",
    "\n",
    "    usermap = dict()\n",
    "    usernum = 0\n",
    "    itemmap = dict()\n",
    "    itemnum = 0\n",
    "    User = dict()\n",
    "    review_dict = {}\n",
    "    name_dict = {'title':{}, 'description':{}}\n",
    "\n",
    "    f = open(f'meta_{fname}.json', 'r')\n",
    "    json_data = f.readlines()\n",
    "    f.close()\n",
    "    data_list = [json.loads(line[:-1]) for line in json_data]\n",
    "    meta_dict = {}\n",
    "    for l in data_list:\n",
    "        meta_dict[l['asin']] = l\n",
    "\n",
    "    for l in parse(file_path):\n",
    "        line += 1\n",
    "        asin = l['asin']\n",
    "        rev = l['reviewerID']\n",
    "        time = l['unixReviewTime']\n",
    "\n",
    "        # Added Magazine over here\n",
    "        threshold = 1\n",
    "        if ('Beauty' in fname) or ('Toys' in fname) or ('Magazine_Subscriptions' in fname):\n",
    "            # Changed threshold to 3 from 4  since the data is small of magazine\n",
    "            threshold = 3\n",
    "\n",
    "        if countU[rev] < threshold or countP[asin] < threshold:\n",
    "            continue\n",
    "\n",
    "        if rev in usermap:\n",
    "            userid = usermap[rev]\n",
    "        else:\n",
    "            usernum += 1\n",
    "            userid = usernum\n",
    "            usermap[rev] = userid\n",
    "            User[userid] = []\n",
    "\n",
    "        if asin in itemmap:\n",
    "            itemid = itemmap[asin]\n",
    "        else:\n",
    "            itemnum += 1\n",
    "            itemid = itemnum\n",
    "            itemmap[asin] = itemid\n",
    "        User[userid].append([time, itemid])\n",
    "\n",
    "\n",
    "        if itemmap[asin] in review_dict:\n",
    "            try:\n",
    "                review_dict[itemmap[asin]]['review'][usermap[rev]] = l['reviewText']\n",
    "            except:\n",
    "                a = 0\n",
    "            try:\n",
    "                review_dict[itemmap[asin]]['summary'][usermap[rev]] = l['summary']\n",
    "            except:\n",
    "                a = 0\n",
    "        else:\n",
    "            review_dict[itemmap[asin]] = {'review': {}, 'summary':{}}\n",
    "            try:\n",
    "                review_dict[itemmap[asin]]['review'][usermap[rev]] = l['reviewText']\n",
    "            except:\n",
    "                a = 0\n",
    "            try:\n",
    "                review_dict[itemmap[asin]]['summary'][usermap[rev]] = l['summary']\n",
    "            except:\n",
    "                a = 0\n",
    "        try:\n",
    "            if len(meta_dict[asin]['description']) ==0:\n",
    "                name_dict['description'][itemmap[asin]] = 'Empty description'\n",
    "            else:\n",
    "                name_dict['description'][itemmap[asin]] = meta_dict[asin]['description'][0]\n",
    "            name_dict['title'][itemmap[asin]] = meta_dict[asin]['title']\n",
    "        except:\n",
    "            a =0\n",
    "\n",
    "    with open(f'{fname}_draft_69.json', 'wb') as tf:\n",
    "        pickle.dump(name_dict, tf)\n",
    "\n",
    "    for userid in User.keys():\n",
    "        User[userid].sort(key=lambda x: x[0])\n",
    "\n",
    "    print(usernum, itemnum)\n",
    "\n",
    "    f = open(f'{fname}.txt', 'w') # data over here\n",
    "    for user in User.keys():\n",
    "        for i in User[user]:\n",
    "            f.write('%d %d\\n' % (user, i[1]))\n",
    "    f.close()"
   ],
   "id": "e19e6c7d3cf12824",
   "outputs": [],
   "execution_count": 58
  },
  {
   "metadata": {
    "ExecuteTime": {
     "end_time": "2025-03-27T19:26:30.768737Z",
     "start_time": "2025-03-27T19:26:29.597445Z"
    }
   },
   "cell_type": "code",
   "source": "preprocess('Luxury_Beauty')",
   "id": "d921719a1aa021b7",
   "outputs": [
    {
     "name": "stderr",
     "output_type": "stream",
     "text": [
      "114927it [00:00, 243210.72it/s]\n",
      "114927it [00:00, 214063.45it/s]"
     ]
    },
    {
     "name": "stdout",
     "output_type": "stream",
     "text": [
      "1514 2008\n"
     ]
    },
    {
     "name": "stderr",
     "output_type": "stream",
     "text": [
      "\n"
     ]
    }
   ],
   "execution_count": 59
  },
  {
   "metadata": {
    "ExecuteTime": {
     "end_time": "2025-03-27T19:26:39.477956Z",
     "start_time": "2025-03-27T19:26:39.474396Z"
    }
   },
   "cell_type": "code",
   "source": [
    "with open('Luxury_Beauty_draft_69.json', 'rb') as f:\n",
    "    temp = pickle.load(f)\n",
    "df2 = pd.DataFrame(temp)"
   ],
   "id": "aef380c1e5c3e01",
   "outputs": [],
   "execution_count": 60
  },
  {
   "metadata": {
    "ExecuteTime": {
     "end_time": "2025-03-27T19:25:09.234903Z",
     "start_time": "2025-03-27T19:25:09.230613Z"
    }
   },
   "cell_type": "code",
   "source": "df.info()",
   "id": "1a150b9b70948650",
   "outputs": [
    {
     "name": "stdout",
     "output_type": "stream",
     "text": [
      "<class 'pandas.core.frame.DataFrame'>\n",
      "Index: 4051 entries, 1 to 4054\n",
      "Data columns (total 2 columns):\n",
      " #   Column       Non-Null Count  Dtype \n",
      "---  ------       --------------  ----- \n",
      " 0   title        4051 non-null   object\n",
      " 1   description  4051 non-null   object\n",
      "dtypes: object(2)\n",
      "memory usage: 94.9+ KB\n"
     ]
    }
   ],
   "execution_count": 57
  },
  {
   "metadata": {
    "ExecuteTime": {
     "end_time": "2025-03-27T19:26:46.787102Z",
     "start_time": "2025-03-27T19:26:46.783585Z"
    }
   },
   "cell_type": "code",
   "source": "df2.info()",
   "id": "5c6e0a241ee2e253",
   "outputs": [
    {
     "name": "stdout",
     "output_type": "stream",
     "text": [
      "<class 'pandas.core.frame.DataFrame'>\n",
      "Index: 2007 entries, 1 to 2008\n",
      "Data columns (total 2 columns):\n",
      " #   Column       Non-Null Count  Dtype \n",
      "---  ------       --------------  ----- \n",
      " 0   title        2007 non-null   object\n",
      " 1   description  2007 non-null   object\n",
      "dtypes: object(2)\n",
      "memory usage: 47.0+ KB\n"
     ]
    }
   ],
   "execution_count": 61
  },
  {
   "metadata": {
    "ExecuteTime": {
     "end_time": "2025-03-27T19:27:03.964466Z",
     "start_time": "2025-03-27T19:27:03.960030Z"
    }
   },
   "cell_type": "code",
   "source": "df.head(50)",
   "id": "b4063cfddc0642c0",
   "outputs": [
    {
     "data": {
      "text/plain": [
       "                                                title  \\\n",
       "1                Coola Suncare SPF 30 Sunscreen Spray   \n",
       "2   L&rsquo;ANZA Healing Moisture Kukui Nut Condit...   \n",
       "3                             TOPPIK Spray Applicator   \n",
       "4         Moroccanoil Extra Volume Shampoo, 8.5 Ounce   \n",
       "5   La Roche-Posay Thermal Spring Water for Sensit...   \n",
       "6                     GEHWOL Med Callus Cream, 2.6 oz   \n",
       "7   jane iredale Glow Time Full Coverage Mineral B...   \n",
       "8   BaBylissPRO Nano Titanium Professional Curl Ma...   \n",
       "9   BaBylissPRO Nano Titanium-Plated Ultra-Thin St...   \n",
       "10  Proraso Shaving Soap in a Bowl, Sensitive Skin...   \n",
       "11                  em michelle phan The Life Palette   \n",
       "12  Creative Nail Design Shellac UV Color Coat, 25...   \n",
       "13             Malin + Goetz Detox Face Mask, 4 Fl Oz   \n",
       "14  La Roche-Posay Substiane Serum Visible Density...   \n",
       "15                  Elta MD UV shield SPF 45, 3 Ounce   \n",
       "16  SEXYHAIR Big Powder Play Volumizing &amp; Text...   \n",
       "17  HOT TOOLS Professional 24k Gold Extra-Long Bar...   \n",
       "18    Toppik Hair Building Fibers 12g/0.42oz - Blonde   \n",
       "19   L&#39;Occitane 20% Shea Butter Hand Cream, 5....   \n",
       "20  Rituals Foaming Shower Gel, Zensation, 6.7 fl....   \n",
       "21                            essie Nail Color Polish   \n",
       "22  Bio Ionic Blue Wave Extra Large Square Round, ...   \n",
       "23                        TOPPIK Hair Building Fibers   \n",
       "24         butter LONDON Melt Away Cuticle Eliminator   \n",
       "25   Mario Badescu Facial Spray with Aloe, Herbs a...   \n",
       "26  Mama Mio Shrink To Fit Hip and Thigh Cream, 3....   \n",
       "27   Merkur-Razor Safety Razor 37c Chrome with Sla...   \n",
       "28                                 OPI Infinite Shine   \n",
       "29  Juice Beauty Green Apple Age Defy Hand Cream, ...   \n",
       "30  stila Perfect &amp; Correct Foundation, Warm, ...   \n",
       "31  IMAGE Skincare Iluma Intense Brightening Serum...   \n",
       "32                 Sebastian Shaper Hairspray 10.6oz.   \n",
       "33       T3 Singlepass Straightening and Styling Iron   \n",
       "34                         butter LONDON Nail Lacquer   \n",
       "35             Mario Badescu Drying Lotion, 1 fl. oz.   \n",
       "36  dr. brand needles no more wrinkle smoothing cr...   \n",
       "37     stila Stay All Day Waterproof Liquid Eye Liner   \n",
       "38                     CND Vinylux Long Wear Top Coat   \n",
       "39       BaBylissPRO Italian Series Slide-On Diffuser   \n",
       "40  HOT TOOLS Professional 24k Gold Extra-Long Bar...   \n",
       "41      VINCENT LONGO Water Canvas Base, 0.88 fl. oz.   \n",
       "42                        TOPPIK Hair Building Fibers   \n",
       "43  OPI Nail Lacquer, You&rsquo;ve Got Nata on Me,...   \n",
       "44                Glo Skin Beauty Oil Free Camouflage   \n",
       "45                            essie Nail Color Polish   \n",
       "46        OPI Nail Lacquer, Cajun Shrimp, 0.5 fl. oz.   \n",
       "47       NeoCutis Hyalis Hydrating Serum, 0.5 fl. oz.   \n",
       "48  SAMPLE SIZE Bliss Triple Oxygen Instant Energi...   \n",
       "49  Proraso Shaving Soap in a Bowl, Sensitive Skin...   \n",
       "50  HOT TOOLS Professional 24K Gold Marcel Iron/Wa...   \n",
       "\n",
       "                                          description  \n",
       "1   Spritz your sunscreen on the go with this clea...  \n",
       "2   Makes hair exceptionally smooth and glossy. Ke...  \n",
       "3   The patented TOPPIK Spray Applicator enables p...  \n",
       "4   Moroccan oil Extra Volume Shampoo transforms f...  \n",
       "5                                                      \n",
       "6   GEHWOL med Callus Cream is an intensive treatm...  \n",
       "7   Glow time covers blemishes, minimizes pores, d...  \n",
       "8   BaBylissPRO Nano Titanium MiraCurl SteamTech P...  \n",
       "9   BaBylissPRO Nano Titanium 1\" Titanium-Plated U...  \n",
       "10  Proraso Shaving Soap for Sensitive Skin provid...  \n",
       "11  Inspired by Michelle Phan's favorites things -...  \n",
       "12  CND Shellac was designed to be used as a syste...  \n",
       "13  Winner of Allure Magazine's Beauty Awards. An ...  \n",
       "14                                                     \n",
       "15  Treat your skin to this sheer, oil-free facial...  \n",
       "16  Can re-activate with a quick scrunching motion...  \n",
       "17  Hot Tools Professional 1110 Curling Iron with ...  \n",
       "18  Buy Toppik Hair Building Fibers - Toppik Hair ...  \n",
       "19  This creamy balm with 20% Shea Butter, honey, ...  \n",
       "20  Foaming shower gel sensation. Squeeze a small ...  \n",
       "21  Essie nail lacquer goes on smooth and last lon...  \n",
       "22  This ultra lightweight square-round brush help...  \n",
       "23  TOPPIK Hair Building Fibers instantly give you...  \n",
       "24  Create a new look for every lacquer using this...  \n",
       "25  A refreshing, hydrating mist to use anywhere a...  \n",
       "26  This product is incredibly effective cellulite...  \n",
       "27  Classic Merkur 2-Piece double edge safety razo...  \n",
       "28  Infinite Shine is a 3-step system which provid...  \n",
       "29  Reduce fine lines and wrinkles with this rich ...  \n",
       "30  A luxurious, high-definition foundation swirle...  \n",
       "31  This quick-absorbing serum targets both discol...  \n",
       "32  The Original Shaper hairspray that set the sta...  \n",
       "33  Featuring digital t3 singlepass technology for...  \n",
       "34  Color is our obsession and our lacquer collect...  \n",
       "35  Renowned for its ability to help dry up surfac...  \n",
       "36                  Dr. Brandt Needles No More .5 oz.  \n",
       "37  Finally a waterproof liquid liner that glides ...  \n",
       "38  CND Vinylux Long Wear Top Coat creates long-la...  \n",
       "39  The BaBylissPRO Diffuser is a slide-on diffuse...  \n",
       "40  Hot Tools Professional 1110 Curling Iron with ...  \n",
       "41  Vincent Longo's water canvas base or primer is...  \n",
       "42  TOPPIK Hair Building Fibers instantly give you...  \n",
       "43  Nail lacquer is the original nail lacquer form...  \n",
       "44  Here is your solution to covering an occasiona...  \n",
       "45  Essie nail lacquer goes on smooth and last lon...  \n",
       "46  Nail lacquer is the original nail polish formu...  \n",
       "47  Fast-acting high concentration of premium qual...  \n",
       "48  Bliss Triple Oxygen Instant Energizing Mask Tr...  \n",
       "49  Proraso Shaving Soap for Sensitive Skin provid...  \n",
       "50  Hot Tools HT1106 Micro Mini Professional Marce...  "
      ],
      "text/html": [
       "<div>\n",
       "<style scoped>\n",
       "    .dataframe tbody tr th:only-of-type {\n",
       "        vertical-align: middle;\n",
       "    }\n",
       "\n",
       "    .dataframe tbody tr th {\n",
       "        vertical-align: top;\n",
       "    }\n",
       "\n",
       "    .dataframe thead th {\n",
       "        text-align: right;\n",
       "    }\n",
       "</style>\n",
       "<table border=\"1\" class=\"dataframe\">\n",
       "  <thead>\n",
       "    <tr style=\"text-align: right;\">\n",
       "      <th></th>\n",
       "      <th>title</th>\n",
       "      <th>description</th>\n",
       "    </tr>\n",
       "  </thead>\n",
       "  <tbody>\n",
       "    <tr>\n",
       "      <th>1</th>\n",
       "      <td>Coola Suncare SPF 30 Sunscreen Spray</td>\n",
       "      <td>Spritz your sunscreen on the go with this clea...</td>\n",
       "    </tr>\n",
       "    <tr>\n",
       "      <th>2</th>\n",
       "      <td>L&amp;rsquo;ANZA Healing Moisture Kukui Nut Condit...</td>\n",
       "      <td>Makes hair exceptionally smooth and glossy. Ke...</td>\n",
       "    </tr>\n",
       "    <tr>\n",
       "      <th>3</th>\n",
       "      <td>TOPPIK Spray Applicator</td>\n",
       "      <td>The patented TOPPIK Spray Applicator enables p...</td>\n",
       "    </tr>\n",
       "    <tr>\n",
       "      <th>4</th>\n",
       "      <td>Moroccanoil Extra Volume Shampoo, 8.5 Ounce</td>\n",
       "      <td>Moroccan oil Extra Volume Shampoo transforms f...</td>\n",
       "    </tr>\n",
       "    <tr>\n",
       "      <th>5</th>\n",
       "      <td>La Roche-Posay Thermal Spring Water for Sensit...</td>\n",
       "      <td></td>\n",
       "    </tr>\n",
       "    <tr>\n",
       "      <th>6</th>\n",
       "      <td>GEHWOL Med Callus Cream, 2.6 oz</td>\n",
       "      <td>GEHWOL med Callus Cream is an intensive treatm...</td>\n",
       "    </tr>\n",
       "    <tr>\n",
       "      <th>7</th>\n",
       "      <td>jane iredale Glow Time Full Coverage Mineral B...</td>\n",
       "      <td>Glow time covers blemishes, minimizes pores, d...</td>\n",
       "    </tr>\n",
       "    <tr>\n",
       "      <th>8</th>\n",
       "      <td>BaBylissPRO Nano Titanium Professional Curl Ma...</td>\n",
       "      <td>BaBylissPRO Nano Titanium MiraCurl SteamTech P...</td>\n",
       "    </tr>\n",
       "    <tr>\n",
       "      <th>9</th>\n",
       "      <td>BaBylissPRO Nano Titanium-Plated Ultra-Thin St...</td>\n",
       "      <td>BaBylissPRO Nano Titanium 1\" Titanium-Plated U...</td>\n",
       "    </tr>\n",
       "    <tr>\n",
       "      <th>10</th>\n",
       "      <td>Proraso Shaving Soap in a Bowl, Sensitive Skin...</td>\n",
       "      <td>Proraso Shaving Soap for Sensitive Skin provid...</td>\n",
       "    </tr>\n",
       "    <tr>\n",
       "      <th>11</th>\n",
       "      <td>em michelle phan The Life Palette</td>\n",
       "      <td>Inspired by Michelle Phan's favorites things -...</td>\n",
       "    </tr>\n",
       "    <tr>\n",
       "      <th>12</th>\n",
       "      <td>Creative Nail Design Shellac UV Color Coat, 25...</td>\n",
       "      <td>CND Shellac was designed to be used as a syste...</td>\n",
       "    </tr>\n",
       "    <tr>\n",
       "      <th>13</th>\n",
       "      <td>Malin + Goetz Detox Face Mask, 4 Fl Oz</td>\n",
       "      <td>Winner of Allure Magazine's Beauty Awards. An ...</td>\n",
       "    </tr>\n",
       "    <tr>\n",
       "      <th>14</th>\n",
       "      <td>La Roche-Posay Substiane Serum Visible Density...</td>\n",
       "      <td></td>\n",
       "    </tr>\n",
       "    <tr>\n",
       "      <th>15</th>\n",
       "      <td>Elta MD UV shield SPF 45, 3 Ounce</td>\n",
       "      <td>Treat your skin to this sheer, oil-free facial...</td>\n",
       "    </tr>\n",
       "    <tr>\n",
       "      <th>16</th>\n",
       "      <td>SEXYHAIR Big Powder Play Volumizing &amp;amp; Text...</td>\n",
       "      <td>Can re-activate with a quick scrunching motion...</td>\n",
       "    </tr>\n",
       "    <tr>\n",
       "      <th>17</th>\n",
       "      <td>HOT TOOLS Professional 24k Gold Extra-Long Bar...</td>\n",
       "      <td>Hot Tools Professional 1110 Curling Iron with ...</td>\n",
       "    </tr>\n",
       "    <tr>\n",
       "      <th>18</th>\n",
       "      <td>Toppik Hair Building Fibers 12g/0.42oz - Blonde</td>\n",
       "      <td>Buy Toppik Hair Building Fibers - Toppik Hair ...</td>\n",
       "    </tr>\n",
       "    <tr>\n",
       "      <th>19</th>\n",
       "      <td>L&amp;#39;Occitane 20% Shea Butter Hand Cream, 5....</td>\n",
       "      <td>This creamy balm with 20% Shea Butter, honey, ...</td>\n",
       "    </tr>\n",
       "    <tr>\n",
       "      <th>20</th>\n",
       "      <td>Rituals Foaming Shower Gel, Zensation, 6.7 fl....</td>\n",
       "      <td>Foaming shower gel sensation. Squeeze a small ...</td>\n",
       "    </tr>\n",
       "    <tr>\n",
       "      <th>21</th>\n",
       "      <td>essie Nail Color Polish</td>\n",
       "      <td>Essie nail lacquer goes on smooth and last lon...</td>\n",
       "    </tr>\n",
       "    <tr>\n",
       "      <th>22</th>\n",
       "      <td>Bio Ionic Blue Wave Extra Large Square Round, ...</td>\n",
       "      <td>This ultra lightweight square-round brush help...</td>\n",
       "    </tr>\n",
       "    <tr>\n",
       "      <th>23</th>\n",
       "      <td>TOPPIK Hair Building Fibers</td>\n",
       "      <td>TOPPIK Hair Building Fibers instantly give you...</td>\n",
       "    </tr>\n",
       "    <tr>\n",
       "      <th>24</th>\n",
       "      <td>butter LONDON Melt Away Cuticle Eliminator</td>\n",
       "      <td>Create a new look for every lacquer using this...</td>\n",
       "    </tr>\n",
       "    <tr>\n",
       "      <th>25</th>\n",
       "      <td>Mario Badescu Facial Spray with Aloe, Herbs a...</td>\n",
       "      <td>A refreshing, hydrating mist to use anywhere a...</td>\n",
       "    </tr>\n",
       "    <tr>\n",
       "      <th>26</th>\n",
       "      <td>Mama Mio Shrink To Fit Hip and Thigh Cream, 3....</td>\n",
       "      <td>This product is incredibly effective cellulite...</td>\n",
       "    </tr>\n",
       "    <tr>\n",
       "      <th>27</th>\n",
       "      <td>Merkur-Razor Safety Razor 37c Chrome with Sla...</td>\n",
       "      <td>Classic Merkur 2-Piece double edge safety razo...</td>\n",
       "    </tr>\n",
       "    <tr>\n",
       "      <th>28</th>\n",
       "      <td>OPI Infinite Shine</td>\n",
       "      <td>Infinite Shine is a 3-step system which provid...</td>\n",
       "    </tr>\n",
       "    <tr>\n",
       "      <th>29</th>\n",
       "      <td>Juice Beauty Green Apple Age Defy Hand Cream, ...</td>\n",
       "      <td>Reduce fine lines and wrinkles with this rich ...</td>\n",
       "    </tr>\n",
       "    <tr>\n",
       "      <th>30</th>\n",
       "      <td>stila Perfect &amp;amp; Correct Foundation, Warm, ...</td>\n",
       "      <td>A luxurious, high-definition foundation swirle...</td>\n",
       "    </tr>\n",
       "    <tr>\n",
       "      <th>31</th>\n",
       "      <td>IMAGE Skincare Iluma Intense Brightening Serum...</td>\n",
       "      <td>This quick-absorbing serum targets both discol...</td>\n",
       "    </tr>\n",
       "    <tr>\n",
       "      <th>32</th>\n",
       "      <td>Sebastian Shaper Hairspray 10.6oz.</td>\n",
       "      <td>The Original Shaper hairspray that set the sta...</td>\n",
       "    </tr>\n",
       "    <tr>\n",
       "      <th>33</th>\n",
       "      <td>T3 Singlepass Straightening and Styling Iron</td>\n",
       "      <td>Featuring digital t3 singlepass technology for...</td>\n",
       "    </tr>\n",
       "    <tr>\n",
       "      <th>34</th>\n",
       "      <td>butter LONDON Nail Lacquer</td>\n",
       "      <td>Color is our obsession and our lacquer collect...</td>\n",
       "    </tr>\n",
       "    <tr>\n",
       "      <th>35</th>\n",
       "      <td>Mario Badescu Drying Lotion, 1 fl. oz.</td>\n",
       "      <td>Renowned for its ability to help dry up surfac...</td>\n",
       "    </tr>\n",
       "    <tr>\n",
       "      <th>36</th>\n",
       "      <td>dr. brand needles no more wrinkle smoothing cr...</td>\n",
       "      <td>Dr. Brandt Needles No More .5 oz.</td>\n",
       "    </tr>\n",
       "    <tr>\n",
       "      <th>37</th>\n",
       "      <td>stila Stay All Day Waterproof Liquid Eye Liner</td>\n",
       "      <td>Finally a waterproof liquid liner that glides ...</td>\n",
       "    </tr>\n",
       "    <tr>\n",
       "      <th>38</th>\n",
       "      <td>CND Vinylux Long Wear Top Coat</td>\n",
       "      <td>CND Vinylux Long Wear Top Coat creates long-la...</td>\n",
       "    </tr>\n",
       "    <tr>\n",
       "      <th>39</th>\n",
       "      <td>BaBylissPRO Italian Series Slide-On Diffuser</td>\n",
       "      <td>The BaBylissPRO Diffuser is a slide-on diffuse...</td>\n",
       "    </tr>\n",
       "    <tr>\n",
       "      <th>40</th>\n",
       "      <td>HOT TOOLS Professional 24k Gold Extra-Long Bar...</td>\n",
       "      <td>Hot Tools Professional 1110 Curling Iron with ...</td>\n",
       "    </tr>\n",
       "    <tr>\n",
       "      <th>41</th>\n",
       "      <td>VINCENT LONGO Water Canvas Base, 0.88 fl. oz.</td>\n",
       "      <td>Vincent Longo's water canvas base or primer is...</td>\n",
       "    </tr>\n",
       "    <tr>\n",
       "      <th>42</th>\n",
       "      <td>TOPPIK Hair Building Fibers</td>\n",
       "      <td>TOPPIK Hair Building Fibers instantly give you...</td>\n",
       "    </tr>\n",
       "    <tr>\n",
       "      <th>43</th>\n",
       "      <td>OPI Nail Lacquer, You&amp;rsquo;ve Got Nata on Me,...</td>\n",
       "      <td>Nail lacquer is the original nail lacquer form...</td>\n",
       "    </tr>\n",
       "    <tr>\n",
       "      <th>44</th>\n",
       "      <td>Glo Skin Beauty Oil Free Camouflage</td>\n",
       "      <td>Here is your solution to covering an occasiona...</td>\n",
       "    </tr>\n",
       "    <tr>\n",
       "      <th>45</th>\n",
       "      <td>essie Nail Color Polish</td>\n",
       "      <td>Essie nail lacquer goes on smooth and last lon...</td>\n",
       "    </tr>\n",
       "    <tr>\n",
       "      <th>46</th>\n",
       "      <td>OPI Nail Lacquer, Cajun Shrimp, 0.5 fl. oz.</td>\n",
       "      <td>Nail lacquer is the original nail polish formu...</td>\n",
       "    </tr>\n",
       "    <tr>\n",
       "      <th>47</th>\n",
       "      <td>NeoCutis Hyalis Hydrating Serum, 0.5 fl. oz.</td>\n",
       "      <td>Fast-acting high concentration of premium qual...</td>\n",
       "    </tr>\n",
       "    <tr>\n",
       "      <th>48</th>\n",
       "      <td>SAMPLE SIZE Bliss Triple Oxygen Instant Energi...</td>\n",
       "      <td>Bliss Triple Oxygen Instant Energizing Mask Tr...</td>\n",
       "    </tr>\n",
       "    <tr>\n",
       "      <th>49</th>\n",
       "      <td>Proraso Shaving Soap in a Bowl, Sensitive Skin...</td>\n",
       "      <td>Proraso Shaving Soap for Sensitive Skin provid...</td>\n",
       "    </tr>\n",
       "    <tr>\n",
       "      <th>50</th>\n",
       "      <td>HOT TOOLS Professional 24K Gold Marcel Iron/Wa...</td>\n",
       "      <td>Hot Tools HT1106 Micro Mini Professional Marce...</td>\n",
       "    </tr>\n",
       "  </tbody>\n",
       "</table>\n",
       "</div>"
      ]
     },
     "execution_count": 63,
     "metadata": {},
     "output_type": "execute_result"
    }
   ],
   "execution_count": 63
  },
  {
   "metadata": {
    "ExecuteTime": {
     "end_time": "2025-03-27T19:27:37.438227Z",
     "start_time": "2025-03-27T19:27:37.253691Z"
    }
   },
   "cell_type": "code",
   "source": "meta = pd.read_json('meta_Luxury_Beauty.json', lines=True)\n",
   "id": "a88ab2c1d8dc9e41",
   "outputs": [],
   "execution_count": 64
  },
  {
   "metadata": {
    "ExecuteTime": {
     "end_time": "2025-03-27T19:27:42.300628Z",
     "start_time": "2025-03-27T19:27:42.287873Z"
    }
   },
   "cell_type": "code",
   "source": "meta.head()",
   "id": "3d1ee5a172e2ead4",
   "outputs": [
    {
     "data": {
      "text/plain": [
       "  category tech1                                        description fit  \\\n",
       "0       []        [After a long day of handling thorny situation...       \n",
       "1       []        [If you haven't experienced the pleasures of b...       \n",
       "2       []        [Rich, black mineral mud, harvested from the b...       \n",
       "3       []        [This liquid soap with convenient pump dispens...       \n",
       "4       []        [Remember why you love your favorite blanket? ...       \n",
       "\n",
       "                                               title  \\\n",
       "0  Crabtree &amp; Evelyn - Gardener's Ultra-Moist...   \n",
       "1                                   AHAVA Bath Salts   \n",
       "2      AHAVA Dead Sea Mineral Mud, 8.5 oz, Pack of 4   \n",
       "3  Crabtree &amp; Evelyn Hand Soap, Gardeners, 10...   \n",
       "4                                 Soy Milk Hand Crme   \n",
       "\n",
       "                                            also_buy tech2 brand feature  \\\n",
       "0  [B00GHX7H0A, B00FRERO7G, B00R68QXCS, B000Z65AZ...                  []   \n",
       "1                                                 []                  []   \n",
       "2                                                 []                  []   \n",
       "3                                                 []                  []   \n",
       "4  [B000NZT6KM, B001BY229Q, B008J724QY, B0009YGKJ...                  []   \n",
       "\n",
       "                                        rank  \\\n",
       "0          4,324 in Beauty & Personal Care (   \n",
       "1      1,633,549 in Beauty & Personal Care (   \n",
       "2  1,806,710 in Beauty &amp; Personal Care (   \n",
       "3                                         []   \n",
       "4     42,464 in Beauty &amp; Personal Care (   \n",
       "\n",
       "                                           also_view  \\\n",
       "0  [B00FRERO7G, B00GHX7H0A, B07GFHJRMX, B00TJ3NBN...   \n",
       "1                                                 []   \n",
       "2                                                 []   \n",
       "3  [B00004U9V2, B00GHX7H0A, B00FRERO7G, B00R68QXC...   \n",
       "4                                                 []   \n",
       "\n",
       "                                             details       main_cat  \\\n",
       "0  {'\n",
       "    Product Dimensions: \n",
       "    ': '2.2 x 2.2 ...  Luxury Beauty   \n",
       "1  {'\n",
       "    Product Dimensions: \n",
       "    ': '3 x 3.5 x ...  Luxury Beauty   \n",
       "2  {'\n",
       "    Product Dimensions: \n",
       "    ': '5.1 x 3 x ...  Luxury Beauty   \n",
       "3  {'\n",
       "    Product Dimensions: \n",
       "    ': '2.6 x 2.6 ...  Luxury Beauty   \n",
       "4  {'\n",
       "    Product Dimensions: \n",
       "    ': '7.2 x 2.2 ...  Luxury Beauty   \n",
       "\n",
       "  similar_item date   price        asin  \\\n",
       "0               NaT  $30.00  B00004U9V2   \n",
       "1               NaT          B0000531EN   \n",
       "2               NaT          B0000532JH   \n",
       "3               NaT  $15.99  B00005A77F   \n",
       "4               NaT  $18.00  B00005NDTD   \n",
       "\n",
       "                                            imageURL  \\\n",
       "0  [https://images-na.ssl-images-amazon.com/image...   \n",
       "1                                                 []   \n",
       "2  [https://images-na.ssl-images-amazon.com/image...   \n",
       "3  [https://images-na.ssl-images-amazon.com/image...   \n",
       "4  [https://images-na.ssl-images-amazon.com/image...   \n",
       "\n",
       "                                     imageURLHighRes  \n",
       "0  [https://images-na.ssl-images-amazon.com/image...  \n",
       "1                                                 []  \n",
       "2  [https://images-na.ssl-images-amazon.com/image...  \n",
       "3  [https://images-na.ssl-images-amazon.com/image...  \n",
       "4  [https://images-na.ssl-images-amazon.com/image...  "
      ],
      "text/html": [
       "<div>\n",
       "<style scoped>\n",
       "    .dataframe tbody tr th:only-of-type {\n",
       "        vertical-align: middle;\n",
       "    }\n",
       "\n",
       "    .dataframe tbody tr th {\n",
       "        vertical-align: top;\n",
       "    }\n",
       "\n",
       "    .dataframe thead th {\n",
       "        text-align: right;\n",
       "    }\n",
       "</style>\n",
       "<table border=\"1\" class=\"dataframe\">\n",
       "  <thead>\n",
       "    <tr style=\"text-align: right;\">\n",
       "      <th></th>\n",
       "      <th>category</th>\n",
       "      <th>tech1</th>\n",
       "      <th>description</th>\n",
       "      <th>fit</th>\n",
       "      <th>title</th>\n",
       "      <th>also_buy</th>\n",
       "      <th>tech2</th>\n",
       "      <th>brand</th>\n",
       "      <th>feature</th>\n",
       "      <th>rank</th>\n",
       "      <th>also_view</th>\n",
       "      <th>details</th>\n",
       "      <th>main_cat</th>\n",
       "      <th>similar_item</th>\n",
       "      <th>date</th>\n",
       "      <th>price</th>\n",
       "      <th>asin</th>\n",
       "      <th>imageURL</th>\n",
       "      <th>imageURLHighRes</th>\n",
       "    </tr>\n",
       "  </thead>\n",
       "  <tbody>\n",
       "    <tr>\n",
       "      <th>0</th>\n",
       "      <td>[]</td>\n",
       "      <td></td>\n",
       "      <td>[After a long day of handling thorny situation...</td>\n",
       "      <td></td>\n",
       "      <td>Crabtree &amp;amp; Evelyn - Gardener's Ultra-Moist...</td>\n",
       "      <td>[B00GHX7H0A, B00FRERO7G, B00R68QXCS, B000Z65AZ...</td>\n",
       "      <td></td>\n",
       "      <td></td>\n",
       "      <td>[]</td>\n",
       "      <td>4,324 in Beauty &amp; Personal Care (</td>\n",
       "      <td>[B00FRERO7G, B00GHX7H0A, B07GFHJRMX, B00TJ3NBN...</td>\n",
       "      <td>{'\n",
       "    Product Dimensions: \n",
       "    ': '2.2 x 2.2 ...</td>\n",
       "      <td>Luxury Beauty</td>\n",
       "      <td></td>\n",
       "      <td>NaT</td>\n",
       "      <td>$30.00</td>\n",
       "      <td>B00004U9V2</td>\n",
       "      <td>[https://images-na.ssl-images-amazon.com/image...</td>\n",
       "      <td>[https://images-na.ssl-images-amazon.com/image...</td>\n",
       "    </tr>\n",
       "    <tr>\n",
       "      <th>1</th>\n",
       "      <td>[]</td>\n",
       "      <td></td>\n",
       "      <td>[If you haven't experienced the pleasures of b...</td>\n",
       "      <td></td>\n",
       "      <td>AHAVA Bath Salts</td>\n",
       "      <td>[]</td>\n",
       "      <td></td>\n",
       "      <td></td>\n",
       "      <td>[]</td>\n",
       "      <td>1,633,549 in Beauty &amp; Personal Care (</td>\n",
       "      <td>[]</td>\n",
       "      <td>{'\n",
       "    Product Dimensions: \n",
       "    ': '3 x 3.5 x ...</td>\n",
       "      <td>Luxury Beauty</td>\n",
       "      <td></td>\n",
       "      <td>NaT</td>\n",
       "      <td></td>\n",
       "      <td>B0000531EN</td>\n",
       "      <td>[]</td>\n",
       "      <td>[]</td>\n",
       "    </tr>\n",
       "    <tr>\n",
       "      <th>2</th>\n",
       "      <td>[]</td>\n",
       "      <td></td>\n",
       "      <td>[Rich, black mineral mud, harvested from the b...</td>\n",
       "      <td></td>\n",
       "      <td>AHAVA Dead Sea Mineral Mud, 8.5 oz, Pack of 4</td>\n",
       "      <td>[]</td>\n",
       "      <td></td>\n",
       "      <td></td>\n",
       "      <td>[]</td>\n",
       "      <td>1,806,710 in Beauty &amp;amp; Personal Care (</td>\n",
       "      <td>[]</td>\n",
       "      <td>{'\n",
       "    Product Dimensions: \n",
       "    ': '5.1 x 3 x ...</td>\n",
       "      <td>Luxury Beauty</td>\n",
       "      <td></td>\n",
       "      <td>NaT</td>\n",
       "      <td></td>\n",
       "      <td>B0000532JH</td>\n",
       "      <td>[https://images-na.ssl-images-amazon.com/image...</td>\n",
       "      <td>[https://images-na.ssl-images-amazon.com/image...</td>\n",
       "    </tr>\n",
       "    <tr>\n",
       "      <th>3</th>\n",
       "      <td>[]</td>\n",
       "      <td></td>\n",
       "      <td>[This liquid soap with convenient pump dispens...</td>\n",
       "      <td></td>\n",
       "      <td>Crabtree &amp;amp; Evelyn Hand Soap, Gardeners, 10...</td>\n",
       "      <td>[]</td>\n",
       "      <td></td>\n",
       "      <td></td>\n",
       "      <td>[]</td>\n",
       "      <td>[]</td>\n",
       "      <td>[B00004U9V2, B00GHX7H0A, B00FRERO7G, B00R68QXC...</td>\n",
       "      <td>{'\n",
       "    Product Dimensions: \n",
       "    ': '2.6 x 2.6 ...</td>\n",
       "      <td>Luxury Beauty</td>\n",
       "      <td></td>\n",
       "      <td>NaT</td>\n",
       "      <td>$15.99</td>\n",
       "      <td>B00005A77F</td>\n",
       "      <td>[https://images-na.ssl-images-amazon.com/image...</td>\n",
       "      <td>[https://images-na.ssl-images-amazon.com/image...</td>\n",
       "    </tr>\n",
       "    <tr>\n",
       "      <th>4</th>\n",
       "      <td>[]</td>\n",
       "      <td></td>\n",
       "      <td>[Remember why you love your favorite blanket? ...</td>\n",
       "      <td></td>\n",
       "      <td>Soy Milk Hand Crme</td>\n",
       "      <td>[B000NZT6KM, B001BY229Q, B008J724QY, B0009YGKJ...</td>\n",
       "      <td></td>\n",
       "      <td></td>\n",
       "      <td>[]</td>\n",
       "      <td>42,464 in Beauty &amp;amp; Personal Care (</td>\n",
       "      <td>[]</td>\n",
       "      <td>{'\n",
       "    Product Dimensions: \n",
       "    ': '7.2 x 2.2 ...</td>\n",
       "      <td>Luxury Beauty</td>\n",
       "      <td></td>\n",
       "      <td>NaT</td>\n",
       "      <td>$18.00</td>\n",
       "      <td>B00005NDTD</td>\n",
       "      <td>[https://images-na.ssl-images-amazon.com/image...</td>\n",
       "      <td>[https://images-na.ssl-images-amazon.com/image...</td>\n",
       "    </tr>\n",
       "  </tbody>\n",
       "</table>\n",
       "</div>"
      ]
     },
     "execution_count": 65,
     "metadata": {},
     "output_type": "execute_result"
    }
   ],
   "execution_count": 65
  }
 ],
 "metadata": {
  "kernelspec": {
   "display_name": "Python 3",
   "language": "python",
   "name": "python3"
  },
  "language_info": {
   "codemirror_mode": {
    "name": "ipython",
    "version": 2
   },
   "file_extension": ".py",
   "mimetype": "text/x-python",
   "name": "python",
   "nbconvert_exporter": "python",
   "pygments_lexer": "ipython2",
   "version": "2.7.6"
  }
 },
 "nbformat": 4,
 "nbformat_minor": 5
}
