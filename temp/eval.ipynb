{
 "cells": [
  {
   "metadata": {
    "ExecuteTime": {
     "end_time": "2025-04-07T12:32:05.535708Z",
     "start_time": "2025-04-07T12:32:05.530329Z"
    }
   },
   "cell_type": "code",
   "source": [
    "import numpy as np\n",
    "from datetime import datetime\n",
    "\n",
    "def get_answers_predictions(file_path):\n",
    "    answers = []\n",
    "    llm_predictions = []\n",
    "    with open(file_path, 'r') as f:\n",
    "        # currentTime = datetime.now().strftime(\"%Y-%m-%d %H:%M\")\n",
    "        # answers.append(\"Generated on \" + currentTime)\n",
    "        for line in f:\n",
    "            if line.startswith('Answer:'):\n",
    "                # Remove the 'Answer:' prefix, strip whitespace and remove the surrounding quotes, then lowercase.\n",
    "                answer = line.replace('Answer:', '').strip()[1:-1].lower()\n",
    "                answers.append(answer)\n",
    "            if line.startswith('LLM:'):\n",
    "                llm_prediction = line.replace('LLM:', '').strip().lower()\n",
    "                try:\n",
    "                    llm_prediction = llm_prediction.replace(\"\\\"item title\\\" : \", '')\n",
    "                    start = llm_prediction.find('\"')\n",
    "                    end = llm_prediction.rfind('\"')\n",
    "                    # Ensure that the indices are valid\n",
    "                    if start < 0 or end <= start:\n",
    "                        raise ValueError(\"Unexpected format\")\n",
    "                    llm_prediction = llm_prediction[start+1:end]\n",
    "                except Exception as e:\n",
    "                    # In case of formatting error, simply keep the (possibly unprocessed) string.\n",
    "                    pass\n",
    "                llm_predictions.append(llm_prediction)\n",
    "\n",
    "    return answers, llm_predictions\n",
    "\n",
    "def evaluate(answers, llm_predictions, k=1):\n",
    "    NDCG = 0.0\n",
    "    HT = 0.0\n",
    "    predict_num = len(answers)\n",
    "\n",
    "    for answer, prediction in zip(answers, llm_predictions):\n",
    "        # Skip counting as correct if both answer and prediction are \"no title\"\n",
    "        if answer == \"no title\" and prediction == \"no title\":\n",
    "            continue\n",
    "\n",
    "        if k > 1:\n",
    "            try:\n",
    "                rank = prediction.index(answer)\n",
    "                if rank < k:\n",
    "                    NDCG += 1 / np.log2(rank + 1)\n",
    "                    HT += 1\n",
    "            except Exception as e:\n",
    "                # answer not found in prediction\n",
    "                pass\n",
    "        elif k == 1:\n",
    "            # Only count as hit if answer is contained in prediction and it's not the invalid \"no title\" case.\n",
    "            if answer in prediction:\n",
    "                NDCG += 1\n",
    "                HT += 1\n",
    "\n",
    "    return NDCG / predict_num, HT / predict_num\n",
    "\n",
    "\n",
    "    # Adjust the file path as needed\n",
    "inferenced_file_path = '/home/kavach/Dev/Publication/A-LLM-Rec/A-LLMRec_copy_original/rec_output/luxuryBeauty/newOTP2.txt'\n",
    "answers, llm_predictions = get_answers_predictions(inferenced_file_path)\n",
    "print(len(answers), len(llm_predictions))\n",
    "assert(len(answers) == len(llm_predictions))\n",
    "\n",
    "ndcg, ht = evaluate(answers, llm_predictions, k=1)\n",
    "print(f\"ndcg at 1: {ndcg}\")\n",
    "print(f\"hit at 1: {ht}\")\n"
   ],
   "id": "5cf9d21d40438932",
   "outputs": [
    {
     "name": "stdout",
     "output_type": "stream",
     "text": [
      "1425 1425\n",
      "ndcg at 1: 0.031578947368421054\n",
      "hit at 1: 0.031578947368421054\n"
     ]
    }
   ],
   "execution_count": 16
  }
 ],
 "metadata": {
  "kernelspec": {
   "display_name": "Python 3",
   "language": "python",
   "name": "python3"
  },
  "language_info": {
   "codemirror_mode": {
    "name": "ipython",
    "version": 2
   },
   "file_extension": ".py",
   "mimetype": "text/x-python",
   "name": "python",
   "nbconvert_exporter": "python",
   "pygments_lexer": "ipython2",
   "version": "2.7.6"
  }
 },
 "nbformat": 4,
 "nbformat_minor": 5
}
