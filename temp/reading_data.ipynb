{
 "cells": [
  {
   "metadata": {
    "ExecuteTime": {
     "end_time": "2025-02-14T11:16:29.743141Z",
     "start_time": "2025-02-14T11:15:46.294450Z"
    }
   },
   "cell_type": "code",
   "source": [
    "import pandas as pd\n",
    "import gzip\n",
    "import json\n",
    "\n",
    "def parse(path):\n",
    "  g = gzip.open(path, 'rb')\n",
    "  for l in g:\n",
    "    yield json.loads(l)\n",
    "\n",
    "def getDF(path):\n",
    "  i = 0\n",
    "  df = {}\n",
    "  for d in parse(path):\n",
    "    df[i] = d\n",
    "    i += 1\n",
    "  return pd.DataFrame.from_dict(df, orient='index')\n",
    "\n",
    "# df_mag = getDF('Magazine_Subscriptions.json.gz')\n",
    "# df_movie = getDF('Movies_and_TV.json.gz')\n",
    "# df_games = getDF('Video_Games.json.gz')\n",
    "df_luxBeauty = getDF('Luxury_Beauty.json.gz')\n",
    "df_subset = getDF(('/home/kavach/Dev/Publication/A-LLM-Rec/A-LLMRec_copy_original/temp/amazon/subset/Movies_and_TV.json.gz'))\n",
    "df_videoGames = getDF('Video_Games.json.gz')\n"
   ],
   "id": "373079f4493d4f5",
   "outputs": [],
   "execution_count": 18
  },
  {
   "metadata": {
    "ExecuteTime": {
     "end_time": "2025-02-14T11:47:44.957386Z",
     "start_time": "2025-02-14T11:47:42.497454Z"
    }
   },
   "cell_type": "code",
   "source": [
    "print('Subset Movies and TV:')\n",
    "print(df_subset.count())  # Print the actual count output\n",
    "\n",
    "print('\\nLuxury Beauty:')\n",
    "print(df_luxBeauty.count())  # Print the actual count output\n",
    "\n",
    "print('\\nVideo Games:')\n",
    "print(df_videoGames.count())  # Print the actual count output\n",
    "\n",
    "df_magazine = getDF('Magazine_Subscriptions.json.gz')\n",
    "print('\\nMagazine Subscriptions:')\n",
    "print(df_magazine.count())\n"
   ],
   "id": "8c6526160e5a1a14",
   "outputs": [
    {
     "name": "stdout",
     "output_type": "stream",
     "text": [
      "Subset Movies and TV:\n",
      "overall           1753113\n",
      "verified          1753113\n",
      "reviewTime        1753113\n",
      "reviewerID        1753113\n",
      "asin              1753113\n",
      "style             1662959\n",
      "reviewerName      1753067\n",
      "reviewText        1751519\n",
      "summary           1752696\n",
      "unixReviewTime    1753113\n",
      "vote               285314\n",
      "image                3700\n",
      "dtype: int64\n",
      "\n",
      "Luxury Beauty:\n",
      "overall           574628\n",
      "vote              103689\n",
      "verified          574628\n",
      "reviewTime        574628\n",
      "reviewerID        574628\n",
      "asin              574628\n",
      "reviewerName      574597\n",
      "reviewText        574228\n",
      "summary           574445\n",
      "unixReviewTime    574628\n",
      "style             251013\n",
      "image               7418\n",
      "dtype: int64\n",
      "\n",
      "Video Games:\n",
      "overall           2565349\n",
      "verified          2565349\n",
      "reviewTime        2565349\n",
      "reviewerID        2565349\n",
      "asin              2565349\n",
      "reviewerName      2565096\n",
      "reviewText        2563634\n",
      "summary           2564538\n",
      "unixReviewTime    2565349\n",
      "vote               442716\n",
      "style             1319972\n",
      "image               28305\n",
      "dtype: int64\n",
      "\n",
      "Magazine Subscriptions:\n",
      "overall           89689\n",
      "vote              24103\n",
      "verified          89689\n",
      "reviewTime        89689\n",
      "reviewerID        89689\n",
      "asin              89689\n",
      "reviewerName      89687\n",
      "reviewText        89656\n",
      "summary           89670\n",
      "unixReviewTime    89689\n",
      "style             51398\n",
      "image               135\n",
      "dtype: int64\n"
     ]
    }
   ],
   "execution_count": 26
  },
  {
   "metadata": {
    "ExecuteTime": {
     "end_time": "2025-02-14T11:28:25.611613Z",
     "start_time": "2025-02-14T11:28:25.609563Z"
    }
   },
   "cell_type": "code",
   "source": [
    "import os\n",
    "\n",
    "movie_subset = \"/home/kavach/Dev/Publication/A-LLM-Rec/A-LLMRec_copy_original/data/amazon/Movies_and_TV.json.gz\" #\n",
    "luxury_beauty = 'Luxury_Beauty.json.gz'\n",
    "video_games = 'Video_Games.json.gz'\n",
    "magazine = 'Magazine_Subscriptions.json.gz'\n",
    "\n",
    "file_size_movie = os.path.getsize(movie_subset)  # File size in bytes\n",
    "print(f\"The file size of Movie Subset: {file_size_movie / (1024 * 1024):.2f} MB\")\n",
    "\n",
    "file_size_luxury= os.path.getsize(luxury_beauty)  # File size in bytes\n",
    "print(f\"The file size of luxury Beauty: {file_size_luxury / (1024 * 1024):.2f} MB\")\n",
    "\n",
    "file_size_games= os.path.getsize(video_games)  # File size in bytes\n",
    "print(f\"The file size of Video Games is : {file_size_games / (1024 * 1024):.2f} MB\") # Convert to MB\n",
    "\n",
    "file_size_magazine= os.path.getsize(video_games)  # File size in bytes\n",
    "print(f\"The file size of Video Games is : {file_size_games / (1024 * 1024):.2f} MB\") # Convert to MB\n"
   ],
   "id": "792604099bd529fc",
   "outputs": [
    {
     "name": "stdout",
     "output_type": "stream",
     "text": [
      "The file size of Movie Subset: 326.17 MB\n",
      "The file size of luxury Beauty: 69.80 MB\n",
      "The file size of Video Games is : 498.60 MB\n"
     ]
    }
   ],
   "execution_count": 23
  },
  {
   "metadata": {
    "ExecuteTime": {
     "end_time": "2025-02-14T11:32:40.413123Z",
     "start_time": "2025-02-14T11:32:39.611496Z"
    }
   },
   "cell_type": "code",
   "source": [
    "import gzip\n",
    "import json\n",
    "import os\n",
    "\n",
    "\n",
    "def count_json_records(file_path):\n",
    "    \"\"\"\n",
    "    Counts the number of JSON objects in a file, handling both gzipped and plaintext files.\n",
    "\n",
    "    :param file_path: Path to the file (can be .json or .gz file)\n",
    "    :return: The count of JSON objects in the file\n",
    "    \"\"\"\n",
    "    count = 0\n",
    "    file_extension = os.path.splitext(file_path)[-1].lower()\n",
    "\n",
    "    # Choose the file opening method based on the extension\n",
    "    open_function = gzip.open if file_extension == '.gz' else open\n",
    "\n",
    "    with open_function(file_path, 'rb') as f:\n",
    "        for line in f:\n",
    "            try:\n",
    "                # Each line should contain one valid JSON object\n",
    "                json.loads(line)\n",
    "                count += 1\n",
    "            except json.JSONDecodeError:\n",
    "                # Handle malformed JSON lines or lines that aren't JSON\n",
    "                pass\n",
    "\n",
    "    return count\n",
    "\n",
    "\n",
    "# Example usage\n",
    "movie_subset = \"/home/kavach/Dev/Publication/A-LLM-Rec/A-LLMRec_copy_original/data/amazon/meta_Movies_and_TV.json\" #\n",
    "luxury_beauty = 'meta_Luxury_Beauty.json'\n",
    "video_games = 'meta_Video_Games.json'# Replace with your file path\n",
    "\n",
    "record_count_movie = count_json_records(movie_subset)\n",
    "print(f\"Movie subset  JSON file contains {record_count_movie} records.\")\n",
    "\n",
    "record_count_beauty = count_json_records(luxury_beauty)\n",
    "print(f\"Luxury Beauty JSON file contains {record_count_beauty} records.\")\n",
    "\n",
    "record_count_games = count_json_records(video_games)\n",
    "print(f\"Video Games  JSON file contains {record_count_games} records.\")\n"
   ],
   "id": "1d382ad898ccd54e",
   "outputs": [
    {
     "name": "stdout",
     "output_type": "stream",
     "text": [
      "Movie subset  JSON file contains 40753 records.\n",
      "Luxury Beauty JSON file contains 12299 records.\n",
      "Video Games  JSON file contains 84819 records.\n"
     ]
    }
   ],
   "execution_count": 25
  },
  {
   "metadata": {
    "ExecuteTime": {
     "end_time": "2025-02-14T10:51:23.956365Z",
     "start_time": "2025-02-14T10:51:23.765217Z"
    }
   },
   "cell_type": "code",
   "source": [
    "import gzip\n",
    "import json\n",
    "import os\n",
    "\n",
    "\n",
    "def count_json_records(file_path):\n",
    "    \"\"\"\n",
    "    Counts the number of JSON objects in a file, handling both gzipped and plaintext files.\n",
    "\n",
    "    :param file_path: Path to the file (can be .json or .gz file)\n",
    "    :return: The count of JSON objects in the file\n",
    "    \"\"\"\n",
    "    count = 0\n",
    "    file_extension = os.path.splitext(file_path)[-1].lower()\n",
    "\n",
    "    # Choose the file opening method based on the extension\n",
    "    open_function = gzip.open if file_extension == '.gz' else open\n",
    "\n",
    "    with open_function(file_path, 'rb') as f:\n",
    "        for line in f:\n",
    "            try:\n",
    "                # Each line should contain one valid JSON object\n",
    "                json.loads(line)\n",
    "                count += 1\n",
    "            except json.JSONDecodeError:\n",
    "                # Handle malformed JSON lines or lines that aren't JSON\n",
    "                pass\n",
    "\n",
    "    return count\n",
    "\n",
    "\n",
    "# Example usage\n",
    "file_path = \"/home/kavach/Dev/Publication/A-LLM-Rec/A-LLMRec_copy_original/temp/amazon/subset/meta_Movies_and_TV.json\"  # Replace with your file path\n",
    "record_count = count_json_records(file_path)\n",
    "print(f\"The JSON file contains {record_count} records.\")\n"
   ],
   "id": "280196d01c9b7923",
   "outputs": [
    {
     "name": "stdout",
     "output_type": "stream",
     "text": [
      "The JSON file contains 40753 records.\n"
     ]
    }
   ],
   "execution_count": 15
  },
  {
   "metadata": {},
   "cell_type": "code",
   "outputs": [],
   "execution_count": null,
   "source": "",
   "id": "6e752f4b7ac0fcb2"
  }
 ],
 "metadata": {
  "kernelspec": {
   "name": "python3",
   "language": "python",
   "display_name": "Python 3 (ipykernel)"
  }
 },
 "nbformat": 5,
 "nbformat_minor": 9
}
