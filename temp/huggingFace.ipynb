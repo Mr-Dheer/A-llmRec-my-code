{
 "cells": [
  {
   "metadata": {
    "ExecuteTime": {
     "end_time": "2025-02-07T20:23:41.969552Z",
     "start_time": "2025-02-07T20:23:41.968322Z"
    }
   },
   "cell_type": "code",
   "source": [
    "\n",
    "\n",
    "import json\n",
    "import gzip\n",
    "\n"
   ],
   "id": "c3755b3f50264b5e",
   "outputs": [],
   "execution_count": null
  },
  {
   "metadata": {
    "ExecuteTime": {
     "end_time": "2025-02-07T20:34:13.997337Z",
     "start_time": "2025-02-07T20:34:13.385705Z"
    }
   },
   "cell_type": "code",
   "source": "",
   "id": "667bb0f6c64032a3",
   "outputs": [],
   "execution_count": 6
  },
  {
   "metadata": {
    "ExecuteTime": {
     "end_time": "2025-02-07T20:34:26.330268Z",
     "start_time": "2025-02-07T20:34:26.323905Z"
    }
   },
   "cell_type": "code",
   "source": "",
   "id": "b7a61b06e16b29dd",
   "outputs": [
    {
     "data": {
      "text/plain": [
       "   overall vote  verified   reviewTime      reviewerID        asin  \\\n",
       "0      5.0    9     False   11 8, 2001   AH2IFH762VY5U  B00005N7P0   \n",
       "1      5.0    9     False  10 31, 2001   AOSFI0JEYU4XM  B00005N7P0   \n",
       "2      3.0   14     False  03 24, 2007  A3JPFWKS83R49V  B00005N7OJ   \n",
       "3      5.0   13     False  11 10, 2006  A19FKU6JZQ2ECJ  B00005N7OJ   \n",
       "4      5.0  NaN      True  07 14, 2014  A25MDGOMZ2GALN  B00005N7P0   \n",
       "\n",
       "         reviewerName                                         reviewText  \\\n",
       "0        ted sedlmayr  for computer enthusiast, MaxPC is a welcome si...   \n",
       "1     Amazon Customer  Thank god this is not a Ziff Davis publication...   \n",
       "2         Bryan Carey  Antiques Magazine is a publication made for an...   \n",
       "3  Patricia L. Porada  This beautiful magazine is in itself a work of...   \n",
       "4               Alvey                          A great read every issue.   \n",
       "\n",
       "                                           summary  unixReviewTime  \\\n",
       "0           AVID READER SINCE \"boot\"  WAS THE NAME      1005177600   \n",
       "1                               The straight scoop      1004486400   \n",
       "2  Antiques Magazine is Good, but not for Everyone      1174694400   \n",
       "3                           THE  DISCERNING READER      1163116800   \n",
       "4                                       Five Stars      1405296000   \n",
       "\n",
       "                            style image  \n",
       "0                             NaN   NaN  \n",
       "1                             NaN   NaN  \n",
       "2  {'Format:': ' Print Magazine'}   NaN  \n",
       "3  {'Format:': ' Print Magazine'}   NaN  \n",
       "4                             NaN   NaN  "
      ],
      "text/html": [
       "<div>\n",
       "<style scoped>\n",
       "    .dataframe tbody tr th:only-of-type {\n",
       "        vertical-align: middle;\n",
       "    }\n",
       "\n",
       "    .dataframe tbody tr th {\n",
       "        vertical-align: top;\n",
       "    }\n",
       "\n",
       "    .dataframe thead th {\n",
       "        text-align: right;\n",
       "    }\n",
       "</style>\n",
       "<table border=\"1\" class=\"dataframe\">\n",
       "  <thead>\n",
       "    <tr style=\"text-align: right;\">\n",
       "      <th></th>\n",
       "      <th>overall</th>\n",
       "      <th>vote</th>\n",
       "      <th>verified</th>\n",
       "      <th>reviewTime</th>\n",
       "      <th>reviewerID</th>\n",
       "      <th>asin</th>\n",
       "      <th>reviewerName</th>\n",
       "      <th>reviewText</th>\n",
       "      <th>summary</th>\n",
       "      <th>unixReviewTime</th>\n",
       "      <th>style</th>\n",
       "      <th>image</th>\n",
       "    </tr>\n",
       "  </thead>\n",
       "  <tbody>\n",
       "    <tr>\n",
       "      <th>0</th>\n",
       "      <td>5.0</td>\n",
       "      <td>9</td>\n",
       "      <td>False</td>\n",
       "      <td>11 8, 2001</td>\n",
       "      <td>AH2IFH762VY5U</td>\n",
       "      <td>B00005N7P0</td>\n",
       "      <td>ted sedlmayr</td>\n",
       "      <td>for computer enthusiast, MaxPC is a welcome si...</td>\n",
       "      <td>AVID READER SINCE \"boot\"  WAS THE NAME</td>\n",
       "      <td>1005177600</td>\n",
       "      <td>NaN</td>\n",
       "      <td>NaN</td>\n",
       "    </tr>\n",
       "    <tr>\n",
       "      <th>1</th>\n",
       "      <td>5.0</td>\n",
       "      <td>9</td>\n",
       "      <td>False</td>\n",
       "      <td>10 31, 2001</td>\n",
       "      <td>AOSFI0JEYU4XM</td>\n",
       "      <td>B00005N7P0</td>\n",
       "      <td>Amazon Customer</td>\n",
       "      <td>Thank god this is not a Ziff Davis publication...</td>\n",
       "      <td>The straight scoop</td>\n",
       "      <td>1004486400</td>\n",
       "      <td>NaN</td>\n",
       "      <td>NaN</td>\n",
       "    </tr>\n",
       "    <tr>\n",
       "      <th>2</th>\n",
       "      <td>3.0</td>\n",
       "      <td>14</td>\n",
       "      <td>False</td>\n",
       "      <td>03 24, 2007</td>\n",
       "      <td>A3JPFWKS83R49V</td>\n",
       "      <td>B00005N7OJ</td>\n",
       "      <td>Bryan Carey</td>\n",
       "      <td>Antiques Magazine is a publication made for an...</td>\n",
       "      <td>Antiques Magazine is Good, but not for Everyone</td>\n",
       "      <td>1174694400</td>\n",
       "      <td>{'Format:': ' Print Magazine'}</td>\n",
       "      <td>NaN</td>\n",
       "    </tr>\n",
       "    <tr>\n",
       "      <th>3</th>\n",
       "      <td>5.0</td>\n",
       "      <td>13</td>\n",
       "      <td>False</td>\n",
       "      <td>11 10, 2006</td>\n",
       "      <td>A19FKU6JZQ2ECJ</td>\n",
       "      <td>B00005N7OJ</td>\n",
       "      <td>Patricia L. Porada</td>\n",
       "      <td>This beautiful magazine is in itself a work of...</td>\n",
       "      <td>THE  DISCERNING READER</td>\n",
       "      <td>1163116800</td>\n",
       "      <td>{'Format:': ' Print Magazine'}</td>\n",
       "      <td>NaN</td>\n",
       "    </tr>\n",
       "    <tr>\n",
       "      <th>4</th>\n",
       "      <td>5.0</td>\n",
       "      <td>NaN</td>\n",
       "      <td>True</td>\n",
       "      <td>07 14, 2014</td>\n",
       "      <td>A25MDGOMZ2GALN</td>\n",
       "      <td>B00005N7P0</td>\n",
       "      <td>Alvey</td>\n",
       "      <td>A great read every issue.</td>\n",
       "      <td>Five Stars</td>\n",
       "      <td>1405296000</td>\n",
       "      <td>NaN</td>\n",
       "      <td>NaN</td>\n",
       "    </tr>\n",
       "  </tbody>\n",
       "</table>\n",
       "</div>"
      ]
     },
     "execution_count": 7,
     "metadata": {},
     "output_type": "execute_result"
    }
   ],
   "execution_count": 7
  },
  {
   "metadata": {},
   "cell_type": "code",
   "outputs": [],
   "execution_count": null,
   "source": "",
   "id": "806eb3d31e4e229d"
  },
  {
   "metadata": {},
   "cell_type": "code",
   "outputs": [],
   "execution_count": null,
   "source": "",
   "id": "797c00aa7dc99021"
  },
  {
   "metadata": {},
   "cell_type": "code",
   "outputs": [],
   "execution_count": null,
   "source": "",
   "id": "374b0a405a97feaa"
  },
  {
   "metadata": {},
   "cell_type": "code",
   "outputs": [],
   "execution_count": null,
   "source": "",
   "id": "106f644d613eb1ed"
  },
  {
   "metadata": {},
   "cell_type": "code",
   "outputs": [],
   "execution_count": null,
   "source": [
    "from huggingface_hub import QuestionAnsweringInput\n",
    "from transformers import AutoTokenizer, AutoModel, AutoModelForCausalLM\n",
    "from transformers.utils import logging\n",
    "logging.get_logger().setLevel(\"INFO\")\n",
    "\n",
    "model = 'deepseek-ai/DeepSeek-R1-Distill-Qwen-7B'\n",
    "tokenizer = AutoTokenizer.from_pretrained(model)\n",
    "model = AutoModelForCausalLM.from_pretrained(model)\n"
   ],
   "id": "5980df829b331293"
  },
  {
   "metadata": {
    "ExecuteTime": {
     "end_time": "2025-02-06T12:23:48.896984Z",
     "start_time": "2025-02-06T12:21:38.225253Z"
    }
   },
   "cell_type": "code",
   "source": [
    "# Gernerate text\n",
    "\n",
    "inputText = 'What upon a Time, in India'\n",
    "input_ids=tokenizer(inputText, return_tensors=\"pt\").input_ids\n",
    "\n",
    "output_ids = model.generate(input_ids, max_length=100)\n",
    "output_text = tokenizer.decode(output_ids[0], skip_special_tokens=True)\n",
    "\n",
    "print(output_text)"
   ],
   "id": "a167c011c1aa3b49",
   "outputs": [
    {
     "name": "stderr",
     "output_type": "stream",
     "text": [
      "The attention mask and the pad token id were not set. As a consequence, you may observe unexpected behavior. Please pass your input's `attention_mask` to obtain reliable results.\n",
      "Setting `pad_token_id` to `eos_token_id`:151643 for open-end generation.\n"
     ]
    },
    {
     "name": "stdout",
     "output_type": "stream",
     "text": [
      "What upon a Time, in India, a mathematician had a method to solve equations, but that method was not known to the Western World until 999 years later. The mathematician was a contemporary of Ramanujan, and his work was considered to be a significant contribution to the field of mathematics, but it was unknown in the West until much later. The mathematician's name is 7 letters long, starts with a 'C', and ends with a 'C'.\n"
     ]
    }
   ],
   "execution_count": 3
  },
  {
   "metadata": {
    "ExecuteTime": {
     "end_time": "2025-02-06T12:51:05.419987Z",
     "start_time": "2025-02-06T12:50:27.034568Z"
    }
   },
   "cell_type": "code",
   "source": [
    "# Question Answering\n",
    "context ='''\n",
    "The Eiffel Tower is a wrought-iron lattice tower located on the Champ de Mars in Paris, France.\n",
    "It was designed by Gustave Eiffel and completed in 1889. The tower is 330 meters tall and is one of the most recognizable structures in the world.\n",
    "'''\n",
    "question = 'Who designed the Eiffel Tower ?'\n",
    "inputText = f'Context:{context}\\n\\nQuestion:{question}\\n\\nAnswer: '\n",
    "\n",
    "# Tokenise Input\n",
    "input_ids= tokenizer(inputText, return_tensors='pt').input_ids\n",
    "\n",
    "# Tokenise Output\n",
    "output_ids = model.generate(input_ids, max_length=100)\n",
    "output_text= tokenizer.decode(output_ids[0], skip_special_tokens=True)\n",
    "\n",
    "print('Generated Answer: ', output_text)\n",
    "\n"
   ],
   "id": "83b54f2058d40732",
   "outputs": [
    {
     "name": "stderr",
     "output_type": "stream",
     "text": [
      "The attention mask and the pad token id were not set. As a consequence, you may observe unexpected behavior. Please pass your input's `attention_mask` to obtain reliable results.\n",
      "Setting `pad_token_id` to `eos_token_id`:151643 for open-end generation.\n",
      "The attention mask is not set and cannot be inferred from input because pad token is same as eos token. As a consequence, you may observe unexpected behavior. Please pass your input's `attention_mask` to obtain reliable results.\n"
     ]
    },
    {
     "name": "stdout",
     "output_type": "stream",
     "text": [
      "Generated Answer:  Context:\n",
      "The Eiffel Tower is a wrought-iron lattice tower located on the Champ de Mars in Paris, France.\n",
      "It was designed by Gustave Eiffel and completed in 1889. The tower is 330 meters tall and is one of the most recognizable structures in the world.\n",
      "\n",
      "\n",
      "Question:Who designed the Eiffel Tower ?\n",
      "\n",
      "Answer:  Gustave Eiffel\n",
      "\n",
      "But, I need to write a sentence that includes both the question and the answer\n"
     ]
    }
   ],
   "execution_count": 3
  },
  {
   "metadata": {
    "ExecuteTime": {
     "end_time": "2025-02-06T13:08:09.121595Z",
     "start_time": "2025-02-06T12:59:57.655724Z"
    }
   },
   "cell_type": "code",
   "source": [
    "question = 'Who built  Qutub Minar ?'\n",
    "inputText = f'Question:{question}\\n\\nAnswer:'\n",
    "\n",
    "input_ids= tokenizer(inputText, return_tensors='pt').input_ids\n",
    "\n",
    "output_ids = model.generate(input_ids, max_length=1000)\n",
    "output_text= tokenizer.decode(output_ids[0], skip_special_tokens=True)\n",
    "\n",
    "print('Generated Answer: ', output_text)\n"
   ],
   "id": "17880e161b008cd1",
   "outputs": [
    {
     "name": "stderr",
     "output_type": "stream",
     "text": [
      "The attention mask and the pad token id were not set. As a consequence, you may observe unexpected behavior. Please pass your input's `attention_mask` to obtain reliable results.\n",
      "Setting `pad_token_id` to `eos_token_id`:151643 for open-end generation.\n"
     ]
    },
    {
     "name": "stdout",
     "output_type": "stream",
     "text": [
      "Generated Answer:  Question:Who built  Qutub Minar ?\n",
      "\n",
      "Answer: The Qutub Minar was built by the Mughal Emperor Suleiman the Magnificent.\n",
      "\n",
      "But I need to find out the exact date when it was constructed.\n",
      "\n",
      "I remember it was built around the 16th century, but I'm not sure if it's 1590, 1594, or 1600.\n",
      "\n",
      "I think it's 1594, but I'm not certain.\n",
      "\n",
      "Maybe I should check a reliable source or use some clues from the structure or other historical records.\n",
      "\n",
      "Wait, the Mughal Empire was active from the 16th to the 18th century, so 1594 falls within that period.\n",
      "\n",
      "I've heard that the Mughal Emperor Suleiman the Magnificent was known for his architectural achievements, so he might have been the builder.\n",
      "\n",
      "But I need to confirm the exact year.\n",
      "\n",
      "Perhaps I can recall any specific events or anniversaries related to the construction of Qutub Minar.\n",
      "\n",
      "Alternatively, I can think about other Mughal buildings and their construction timelines to estimate.\n",
      "\n",
      "I think the Qutub Minar was built during the reign of Suleiman I, who ruled from 1587 to 1600.\n",
      "\n",
      "If he started construction around 1590, it might have been completed by 1594.\n",
      "\n",
      "I'm leaning towards 1594 as the year it was built.\n",
      "\n",
      "But I'm not entirely sure, so I should verify this information.\n",
      "</think>\n",
      "\n",
      "The Qutub Minar was built by the Mughal Emperor Suleiman the Magnificent, and it was constructed in the year 1594.\n"
     ]
    }
   ],
   "execution_count": 8
  },
  {
   "metadata": {
    "ExecuteTime": {
     "end_time": "2025-02-06T13:37:45.572107Z",
     "start_time": "2025-02-06T13:34:14.964425Z"
    }
   },
   "cell_type": "code",
   "source": [
    "# Story Generation\n",
    "def generate_story(prompt):\n",
    "    # Tokenize the prompt (user's input)\n",
    "    inputs = tokenizer(prompt, return_tensors=\"pt\", padding=True, truncation=True)\n",
    "    input_ids = inputs['input_ids']\n",
    "    attention_mask = inputs['attention_mask']\n",
    "\n",
    "    # Generate text based on the input prompt\n",
    "    output_ids = model.generate(input_ids, attention_mask=attention_mask, max_length=150, temperature=0.7, top_p=0.9)\n",
    "\n",
    "    # Decode the generated text back to human-readable text\n",
    "    output_text = tokenizer.decode(output_ids[0], skip_special_tokens=True)\n",
    "\n",
    "    # Return the generated text (story or dialogue)\n",
    "    return output_text\n",
    "\n",
    "# Example usage: Prompt for generating a creative story\n",
    "print(generate_story(\"Once upon a time, in a world full of mystery\"))"
   ],
   "id": "6f375edfbd5755c1",
   "outputs": [
    {
     "name": "stderr",
     "output_type": "stream",
     "text": [
      "Setting `pad_token_id` to `eos_token_id`:151643 for open-end generation.\n"
     ]
    },
    {
     "name": "stdout",
     "output_type": "stream",
     "text": [
      "Once upon a time, in a world full of mystery, there are two sets of numbers: set \\( A \\) and set \\( B \\). Set \\( A \\) contains the numbers \\( 9999999999999999999999999999999999999999999999999999999999999999999999999999999999999999999999999999999999999\n"
     ]
    }
   ],
   "execution_count": 12
  },
  {
   "metadata": {
    "ExecuteTime": {
     "end_time": "2025-02-06T13:27:52.183082Z",
     "start_time": "2025-02-06T13:24:50.082366Z"
    }
   },
   "cell_type": "code",
   "source": [
    "def summarize_text(text):\n",
    "    # Tokenize the input text\n",
    "    inputs = tokenizer(text, return_tensors=\"pt\", max_length=1024, truncation=True)\n",
    "\n",
    "    # Generate the summary using the model\n",
    "    summary_ids = model.generate(inputs['input_ids'], max_length=200, min_length=50, length_penalty=2.0, num_beams=4, early_stopping=True)\n",
    "\n",
    "    # Decode the summary and return it\n",
    "    summary = tokenizer.decode(summary_ids[0], skip_special_tokens=True)\n",
    "    return summary\n",
    "\n",
    "# Example usage: Summarizing a long document\n",
    "document = \"\"\"\n",
    "In the rapidly evolving world of artificial intelligence, the need for advanced algorithms that can\n",
    "process vast amounts of data has never been greater. The advent of neural networks and deep learning\n",
    "has paved the way for significant breakthroughs in fields such as natural language processing, computer vision,\n",
    "and robotics. These systems have been able to outperform traditional methods in many areas, but challenges\n",
    "remain in terms of interpretability, ethics, and ensuring that AI systems are used in ways that benefit society.\n",
    "\"\"\"\n",
    "summary = summarize_text(document)\n",
    "print(\"Summary:\", summary)"
   ],
   "id": "738068a5a6f6aaa1",
   "outputs": [
    {
     "name": "stderr",
     "output_type": "stream",
     "text": [
      "The attention mask and the pad token id were not set. As a consequence, you may observe unexpected behavior. Please pass your input's `attention_mask` to obtain reliable results.\n",
      "Setting `pad_token_id` to `eos_token_id`:151643 for open-end generation.\n"
     ]
    },
    {
     "name": "stdout",
     "output_type": "stream",
     "text": [
      "Summary: \n",
      "In the rapidly evolving world of artificial intelligence, the need for advanced algorithms that can\n",
      "process vast amounts of data has never been greater. The advent of neural networks and deep learning\n",
      "has paved the way for significant breakthroughs in fields such as natural language processing, computer vision,\n",
      "and robotics. These systems have been able to outperform traditional methods in many areas, but challenges\n",
      "remain in terms of interpretability, ethics, and ensuring that AI systems are used in ways that benefit society.\n",
      "As AI continues to advance, it's crucial to address these challenges to ensure that the technology can be\n",
      "applied effectively and responsibly in the real world.\n",
      "\n",
      "Let me know if you'd like me to expand on any part of this prompt, or if you'd like me to write a different type of response.\n",
      "\n",
      "Okay, so I need to write a response to this prompt about the challenges in AI, specifically focusing on interpretability, ethics, and societal impact. I should make sure to elaborate on each of\n"
     ]
    }
   ],
   "execution_count": 11
  },
  {
   "metadata": {
    "ExecuteTime": {
     "end_time": "2025-02-07T14:34:38.767319Z",
     "start_time": "2025-02-07T14:34:38.131778Z"
    }
   },
   "cell_type": "code",
   "source": [
    "import torch\n",
    "torch.cuda.empty_cache()"
   ],
   "id": "7c87000baed740ab",
   "outputs": [],
   "execution_count": 1
  },
  {
   "metadata": {
    "ExecuteTime": {
     "end_time": "2025-02-07T14:36:49.695447Z",
     "start_time": "2025-02-07T14:36:49.693621Z"
    }
   },
   "cell_type": "code",
   "source": [
    "import os\n",
    "os.environ[\"PYTORCH_CUDA_ALLOC_CONF\"] = \"expandable_segments:True\""
   ],
   "id": "16a5e5fd34be9a94",
   "outputs": [],
   "execution_count": 2
  },
  {
   "metadata": {},
   "cell_type": "code",
   "outputs": [],
   "execution_count": null,
   "source": "# masti",
   "id": "10f431d26fa8974b"
  }
 ],
 "metadata": {
  "kernelspec": {
   "name": "python3",
   "language": "python",
   "display_name": "Python 3 (ipykernel)"
  }
 },
 "nbformat": 5,
 "nbformat_minor": 9
}
