{
 "cells": [
  {
   "cell_type": "code",
   "id": "initial_id",
   "metadata": {
    "collapsed": true,
    "ExecuteTime": {
     "end_time": "2025-02-03T18:12:44.954879Z",
     "start_time": "2025-02-03T18:12:44.952775Z"
    }
   },
   "source": [
    "import gzip\n",
    "import json\n",
    "import random\n",
    "from tqdm import tqdm\n",
    "\n",
    "def sample_json_gz(input_path, output_path, sample_fraction=0.2):\n",
    "    with gzip.open(input_path, 'rb') as f:\n",
    "        lines = [json.loads(line) for line in tqdm(f)]  # Load all lines into memory\n",
    "\n",
    "    sampled_lines = random.sample(lines, int(len(lines) * sample_fraction))  # Sample 20%\n",
    "\n",
    "    with gzip.open(output_path, 'wt', encoding='utf-8') as f_out:\n",
    "        for line in sampled_lines:\n",
    "            f_out.write(json.dumps(line) + \"\\n\")  # Write back to new .json.gz file\n",
    "\n",
    "# Example usage:\n",
    "input_file = \"Movies_and_TV.json.gz\"\n",
    "output_file = \"subset_Movies_and_TV.json.gz\"\n",
    "sample_json_gz(input_file, output_file, sample_fraction=0.2)\n"
   ],
   "outputs": [],
   "execution_count": 5
  },
  {
   "metadata": {
    "ExecuteTime": {
     "end_time": "2025-02-03T18:12:44.998723Z",
     "start_time": "2025-02-03T18:12:44.996629Z"
    }
   },
   "cell_type": "code",
   "source": [
    "import json\n",
    "import random\n",
    "from tqdm import tqdm\n",
    "\n",
    "# Paths for input and output files\n",
    "input_path = \"meta_Movies_and_TV.json\"\n",
    "output_path = \"subset_meta_Movies_and_TV.json\"\n",
    "\n",
    "# Read the JSON file line by line\n",
    "with open(input_path, 'r', encoding='utf-8') as f:\n",
    "    lines = [json.loads(line) for line in tqdm(f)]\n",
    "\n",
    "# Randomly select 20% of the data\n",
    "subset_size = int(0.2 * len(lines))\n",
    "subset = random.sample(lines, subset_size)\n",
    "\n",
    "# Save the subset to a new JSON file\n",
    "with open(output_path, 'w', encoding='utf-8') as f:\n",
    "    for line in subset:\n",
    "        f.write(json.dumps(line) + '\\n')\n",
    "\n",
    "print(f\"Subset saved to {output_path}\")\n"
   ],
   "id": "b38f79d0b0240c24",
   "outputs": [],
   "execution_count": 6
  },
  {
   "metadata": {},
   "cell_type": "code",
   "outputs": [],
   "execution_count": null,
   "source": "",
   "id": "ea2e56a6bd7ba058"
  },
  {
   "metadata": {},
   "cell_type": "code",
   "outputs": [],
   "execution_count": null,
   "source": "",
   "id": "df7cced0d5103237"
  },
  {
   "metadata": {},
   "cell_type": "code",
   "outputs": [],
   "execution_count": null,
   "source": "",
   "id": "b57ab96651c45647"
  }
 ],
 "metadata": {
  "kernelspec": {
   "display_name": "Python 3",
   "language": "python",
   "name": "python3"
  },
  "language_info": {
   "codemirror_mode": {
    "name": "ipython",
    "version": 2
   },
   "file_extension": ".py",
   "mimetype": "text/x-python",
   "name": "python",
   "nbconvert_exporter": "python",
   "pygments_lexer": "ipython2",
   "version": "2.7.6"
  }
 },
 "nbformat": 4,
 "nbformat_minor": 5
}
